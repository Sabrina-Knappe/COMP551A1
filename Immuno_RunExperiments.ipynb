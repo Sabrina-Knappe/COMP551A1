{
 "nbformat": 4,
 "nbformat_minor": 2,
 "metadata": {
  "language_info": {
   "name": "python",
   "codemirror_mode": {
    "name": "ipython",
    "version": 3
   },
   "version": "3.7.3-final"
  },
  "orig_nbformat": 2,
  "file_extension": ".py",
  "mimetype": "text/x-python",
  "name": "python",
  "npconvert_exporter": "python",
  "pygments_lexer": "ipython3",
  "version": 3,
  "kernelspec": {
   "name": "python37364bit16c59f3069ba44c59fdc0e453d119bc5",
   "display_name": "Python 3.7.3 64-bit"
  }
 },
 "cells": [
  {
   "cell_type": "code",
   "execution_count": 1,
   "metadata": {},
   "outputs": [
    {
     "data": {
      "text/plain": "<Figure size 640x480 with 2 Axes>"
     },
     "metadata": {},
     "output_type": "display_data"
    },
    {
     "name": "stdout",
     "output_type": "stream",
     "text": "90\n8\n[1. 1. 1. 1. 1. 1. 1. 1. 1. 0. 1. 1. 0. 1. 1. 1. 1. 1. 1. 1. 1. 1. 0. 1.\n 1. 1. 1. 0. 0. 1. 1. 1. 1. 1. 1. 0. 0. 1. 1. 0. 1. 1. 0. 0. 1. 1. 1. 1.\n 1. 0. 1. 1. 1. 1. 1. 1. 1. 1. 0. 1. 1. 1. 1. 1. 1. 1. 0. 1. 1. 0. 1. 1.\n 0. 1. 1. 1. 1. 1. 1. 0. 1. 1. 0. 1. 1. 1. 1. 0. 0. 1.]\n[[  1.    22.     2.25  14.     3.    51.    50.  ]\n [  1.    15.     3.     2.     3.   900.    70.  ]\n [  1.    16.    10.5    2.     1.   100.    25.  ]\n [  1.    27.     4.5    9.     3.    80.    30.  ]\n [  1.    20.     8.     6.     1.    45.     8.  ]\n [  1.    15.     5.     3.     3.    84.     7.  ]\n [  1.    35.     9.75   2.     2.     8.     6.  ]\n [  2.    28.     7.5    4.     1.     9.     2.  ]\n [  2.    19.     6.     2.     1.   225.     8.  ]\n [  2.    32.    12.     6.     3.    35.     5.  ]\n [  2.    33.     6.25   2.     1.    30.     3.  ]\n [  2.    17.     5.75  12.     3.    25.     7.  ]\n [  2.    15.     1.75   1.     2.    49.     7.  ]\n [  2.    15.     5.5   12.     1.    48.     7.  ]\n [  2.    16.    10.     7.     1.   143.     6.  ]\n [  2.    33.     9.25   2.     2.   150.     8.  ]\n [  2.    26.     7.75   6.     2.     6.     5.  ]\n [  2.    23.     7.5   10.     2.    43.     3.  ]\n [  2.    15.     6.5   19.     1.    56.     7.  ]\n [  2.    26.     6.75   2.     1.     6.     6.  ]\n [  1.    22.     1.25   3.     3.    47.     3.  ]\n [  2.    19.     2.25   2.     1.    60.     7.  ]\n [  2.    26.    10.5    6.     1.    50.     9.  ]\n [  1.    25.     5.75   2.     1.   300.     7.  ]\n [  2.    17.    11.25   4.     3.    70.     7.  ]\n [  1.    27.     5.     2.     1.    20.     5.  ]\n [  2.    24.     4.75  10.     3.    30.    45.  ]\n [  1.    15.    11.     6.     1.    30.    25.  ]\n [  2.    34.    11.5   12.     1.    25.    50.  ]\n [  2.    20.     7.75  18.     3.    45.     2.  ]\n [  2.    38.     2.5    1.     3.    43.    50.  ]\n [  1.    23.     3.     2.     3.    87.    70.  ]\n [  2.    48.    10.25   7.     1.    50.    25.  ]\n [  2.    24.     4.25   1.     1.   174.    30.  ]\n [  2.    33.     8.     3.     1.   502.     8.  ]\n [  1.    34.     5.     7.     3.    64.     7.  ]\n [  2.    41.    11.    11.     2.    21.     6.  ]\n [  1.    29.     8.75   3.     1.   504.     2.  ]\n [  2.    22.     8.5    5.     1.    99.     8.  ]\n [  1.    45.    11.25   4.     1.    72.     5.  ]\n [  2.    22.     8.25   9.     1.   352.     3.  ]\n [  1.    35.     8.75  10.     2.    69.     7.  ]\n [  2.    34.     8.5    1.     2.   163.     7.  ]\n [  1.    49.     4.5    2.     1.    33.     7.  ]\n [  2.    19.    11.     5.     2.    51.     6.  ]\n [  1.    21.     8.     3.     1.    17.     8.  ]\n [  1.    26.     7.75  13.     2.    13.     5.  ]\n [  1.    51.     8.75   2.     2.    57.     3.  ]\n [  1.    19.     7.75   6.     1.    32.     7.  ]\n [  1.    38.    12.    14.     1.    87.     6.  ]\n [  2.    36.     1.75  10.     3.    45.     3.  ]\n [  2.    52.     2.25   5.     1.    63.     7.  ]\n [  2.    49.     9.     4.     2.    14.     9.  ]\n [  1.    23.     5.75   2.     1.    43.     7.  ]\n [  1.    45.    10.     8.     1.    58.     7.  ]\n [  1.    54.     7.5   13.     3.    43.     5.  ]\n [  2.    47.     5.25   3.     3.    23.    45.  ]\n [  2.    53.    10.     1.     2.    30.    25.  ]\n [  2.    56.    11.75   7.     1.    31.    50.  ]\n [  1.    27.    11.25   3.     2.    37.     2.  ]\n [  2.    47.     3.75  14.     2.    67.    50.  ]\n [  2.    19.     2.25   8.     2.    42.    70.  ]\n [  2.    33.     8.     5.     1.    63.    25.  ]\n [  2.    15.     4.    12.     1.    72.    30.  ]\n [  1.    17.     8.5    2.     1.    44.     8.  ]\n [  1.    29.     5.    12.     3.    75.     7.  ]\n [  1.    27.    11.75   8.     1.   208.     6.  ]\n [  2.    51.     6.     6.     1.    80.     2.  ]\n [  1.    35.     6.75   4.     3.    41.     8.  ]\n [  2.    47.    10.75   8.     1.    57.     5.  ]\n [  1.    43.     8.     1.     1.    59.     3.  ]\n [  1.    15.     4.     4.     3.    25.     7.  ]\n [  1.    33.     1.75   7.     2.   379.     7.  ]\n [  2.    51.     4.     1.     1.    65.     7.  ]\n [  1.    45.     6.5    9.     2.    49.     6.  ]\n [  2.    47.     9.25  13.     2.   367.     8.  ]\n [  1.    18.    11.75   5.     2.    13.     5.  ]\n [  2.    46.     7.75   8.     1.    40.     3.  ]\n [  1.    43.    11.     7.     1.   507.     7.  ]\n [  2.    28.    11.     3.     3.    91.     6.  ]\n [  1.    30.     1.     2.     1.    88.     3.  ]\n [  2.    16.     2.    11.     1.    47.     7.  ]\n [  2.    42.     8.75   8.     2.    73.     9.  ]\n [  2.    15.     8.     1.     1.    55.     7.  ]\n [  2.    53.     7.25   6.     1.    81.     7.  ]\n [  1.    40.     5.5    8.     3.    69.     5.  ]\n [  1.    38.     7.5    8.     2.    56.    45.  ]\n [  1.    46.    11.5    4.     1.    91.    25.  ]\n [  1.    32.    12.     9.     1.    43.    50.  ]\n [  2.    23.     6.75   6.     1.    19.     2.  ]]\n"
    }
   ],
   "source": [
    "# -*- coding: utf-8 -*-\n",
    "\"\"\"\n",
    "Created on Sat Feb 15 14:34:24 2020\n",
    "\n",
    "@author: Admin\n",
    "\"\"\"\n",
    "\n",
    "# -*- coding: utf-8 -*-\n",
    "\"\"\"\n",
    "Preprocess Immunotherapy dataset \n",
    "\n",
    "\"\"\"\n",
    "\n",
    "from urllib.request import urlretrieve\n",
    "\n",
    "# Import pandas\n",
    "import pandas as pd\n",
    "# Import numpy\n",
    "import numpy as np\n",
    "import os \n",
    "from Models.kfold_CV_try import train_test_split \n",
    "from Models.kfold_CV_try import kfold_cross_validation\n",
    "from Models.kfold_CV_try import train_validation_split\n",
    "import sklearn.preprocessing as preprocessing          # used for one hot encoding \n",
    "import seaborn as sns\n",
    "import matplotlib.pyplot as plt\n",
    "\n",
    "# dataFolderPath = 'Dataset_Folder/Dataset4_Immunotherapy/immunotherapy.csv'\n",
    "# os.chdir (dataFolderPath)\n",
    "\n",
    "df_immuno_all = pd.read_csv('Dataset_Folder/Dataset4_Immunotherapy/Immunotherapy.csv', sep=',') # adult data training set (including the validation set)\n",
    "\n",
    "url_immuno='https://archive.ics.uci.edu/ml/machine-learning-databases/00428/Immunotherapy.xlsx'\n",
    "result = df_immuno_all.copy()\n",
    "encoders = {}\n",
    "for column in result.columns:\n",
    "    if result.dtypes[column] == np.object:\n",
    "        encoders[column] = preprocessing.LabelEncoder()\n",
    "        result[column] = encoders[column].fit_transform(result[column])\n",
    "\n",
    "# Calculate the correlation and plot it\n",
    "# encoded_data, _ = number_encode_features(df)\n",
    "    # show heatmap - exploring correlations \n",
    "encoded_data = result \n",
    "sns.heatmap(encoded_data.corr(), square=True)\n",
    "plt.show()\n",
    "encoded_data.tail(5)\n",
    "\n",
    "temp_im = df_immuno_all.values\n",
    "R_im,C_im = temp_im.shape\n",
    "print(R_im);print(C_im)\n",
    "\n",
    "# Split array into design matrix and labels\n",
    "im_labels = temp_im[:, C_im-1]\n",
    "print(im_labels)\n",
    "\n",
    "# Remove labels to get design matrix\n",
    "immuno_design_matrix= np.delete(temp_im, C_im-1, 1)\n",
    "print(immuno_design_matrix)\n",
    "\n"
   ]
  },
  {
   "cell_type": "code",
   "execution_count": null,
   "metadata": {},
   "outputs": [],
   "source": [
    "\n"
   ]
  },
  {
   "cell_type": "code",
   "execution_count": null,
   "metadata": {},
   "outputs": [],
   "source": []
  }
 ]
}