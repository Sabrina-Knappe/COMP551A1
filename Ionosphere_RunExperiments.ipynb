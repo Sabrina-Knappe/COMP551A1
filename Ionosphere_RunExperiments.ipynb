{
  "nbformat": 4,
  "nbformat_minor": 0,
  "metadata": {
    "colab": {
      "name": "COMP551_Assignment1.ipynb",
      "provenance": [],
      "collapsed_sections": [],
      "authorship_tag": "ABX9TyPqFjXAN98AZLXkMFYk1qwl",
      "include_colab_link": true
    },
    "kernelspec": {
      "name": "python37464bit6f19452678144e6e97437b4df42ffca5",
      "display_name": "Python 3.7.4 64-bit"
    }
  },
  "cells": [
    {
      "cell_type": "code",
      "execution_count": null,
      "metadata": {},
      "outputs": [],
      "source": []
    },
    {
      "cell_type": "markdown",
      "metadata": {
        "colab_type": "text",
        "id": "view-in-github"
      },
      "source": [
        "<a href=\"https://colab.research.google.com/github/Sabrina-Knappe/COMP551A1/blob/master/COMP551_Assignment1.ipynb\" target=\"_parent\"><img src=\"https://colab.research.google.com/assets/colab-badge.svg\" alt=\"Open In Colab\"/></a>"
      ]
    },
    {
      "cell_type": "markdown",
      "metadata": {
        "colab_type": "text",
        "id": "-_x34XV8aWFa"
      },
      "source": [
        "Import dataset "
      ]
    },
    {
      "cell_type": "code",
      "execution_count": 0,
      "metadata": {},
      "outputs": [],
      "source": [
        "# Import package\n",
        "from urllib.request import urlretrieve\n",
        "\n",
        "# Import pandas\n",
        "import pandas as pd\n",
        "\n",
        "# Assign url of file: url\n",
        "url = 'https://archive.ics.uci.edu/ml/machine-learning-databases/ionosphere/ionosphere.data'\n",
        "\n",
        "# Save file locally\n",
        "urlretrieve(url, 'ionosphere-data.csv')\n",
        "\n",
        "# Read file into a DataFrame and print its head\n",
        "df = pd.read_csv('ionosphere-data.csv', sep=',')\n",
        "print(df)"
      ]
    },
    {
      "cell_type": "code",
      "execution_count": 116,
      "metadata": {},
      "outputs": [
        {
          "ename": "ModuleNotFoundError",
          "evalue": "No module named 'seaborn'",
          "output_type": "error",
          "traceback": [
            "\u001b[0;31m---------------------------------------------------------------------------\u001b[0m",
            "\u001b[0;31mModuleNotFoundError\u001b[0m                       Traceback (most recent call last)",
            "\u001b[0;32m<ipython-input-116-0e7f552af77f>\u001b[0m in \u001b[0;36m<module>\u001b[0;34m\u001b[0m\n\u001b[1;32m      1\u001b[0m \u001b[0;32mimport\u001b[0m \u001b[0mnumpy\u001b[0m \u001b[0;32mas\u001b[0m \u001b[0mnp\u001b[0m\u001b[0;34m\u001b[0m\u001b[0;34m\u001b[0m\u001b[0m\n\u001b[1;32m      2\u001b[0m \u001b[0;32mimport\u001b[0m \u001b[0msklearn\u001b[0m\u001b[0;34m.\u001b[0m\u001b[0mpreprocessing\u001b[0m \u001b[0;32mas\u001b[0m \u001b[0mpreprocessing\u001b[0m\u001b[0;34m\u001b[0m\u001b[0;34m\u001b[0m\u001b[0m\n\u001b[0;32m----> 3\u001b[0;31m \u001b[0;32mimport\u001b[0m \u001b[0mseaborn\u001b[0m \u001b[0;32mas\u001b[0m \u001b[0msns\u001b[0m\u001b[0;34m\u001b[0m\u001b[0;34m\u001b[0m\u001b[0m\n\u001b[0m\u001b[1;32m      4\u001b[0m \u001b[0;32mimport\u001b[0m \u001b[0mmatplotlib\u001b[0m\u001b[0;34m.\u001b[0m\u001b[0mpyplot\u001b[0m \u001b[0;32mas\u001b[0m \u001b[0mplt\u001b[0m\u001b[0;34m\u001b[0m\u001b[0;34m\u001b[0m\u001b[0m\n\u001b[1;32m      5\u001b[0m \u001b[0;34m\u001b[0m\u001b[0m\n",
            "\u001b[0;31mModuleNotFoundError\u001b[0m: No module named 'seaborn'"
          ]
        }
      ],
      "source": [
        "import numpy as np\n",
        "import sklearn.preprocessing as preprocessing\n",
        "import seaborn as sns\n",
        "import matplotlib.pyplot as plt\n",
        "\n",
        "#df.columns = [\"1\", \"2\", \"3\", \"4\", \"5\", \"6\", \"7\", \"8\", \"9\", \"10\", \"11\", \"12\", \"13\", \"14\",\"15\",\"16\",\"17\",\"18\",\"19\",\"20\",\"21\", \"22\", \"23\",\"24\",\"25\",\"26\",\"27\",\"28\",\"29\",\"30\",\"31\",\"32\",\"33\",\"34\",\"Labels\"]\n",
        "result = df.copy()\n",
        "encoders = {}\n",
        "for column in result.columns:\n",
        "    if result.dtypes[column] == np.object:\n",
        "        encoders[column] = preprocessing.LabelEncoder()\n",
        "        result[column] = encoders[column].fit_transform(result[column])\n",
        "\n",
        "# Calculate the correlation and plot it\n",
        "# encoded_data, _ = number_encode_features(df)\n",
        "    # show heatmap - exploring correlations \n",
        "encoded_data = result \n",
        "sns.heatmap(encoded_data.corr(), square=True)\n",
        "plt.show()\n",
        "encoded_data.tail(5)\n",
        "\n"
      ]
    },
    {
      "cell_type": "markdown",
      "metadata": {
        "colab_type": "text",
        "id": "lHHWJI2Rbmvo"
      },
      "source": [
        "Create numpy arrays"
      ]
    },
    {
      "cell_type": "code",
      "execution_count": 0,
      "metadata": {},
      "outputs": [],
      "source": [
        "# Import numpy\n",
        "import numpy as np\n",
        "\n",
        "# Convert to numpy\n",
        "#df.to_numpy()\n",
        "temp = df.values\n",
        "R,C = temp.shape\n",
        "print(C)\n",
        "\n",
        "# Split array into design matrix and labels\n",
        "ionosphere_labels = temp[:, C-1]\n",
        "print(ionosphere_labels)\n",
        "\n"
      ]
    },
    {
      "cell_type": "code",
      "execution_count": 0,
      "metadata": {},
      "outputs": [],
      "source": [
        "# Remove labels to get design matrix\n",
        "ionosphere_design_matrix= np.delete(temp, C-1, 1)\n",
        "print(ionosphere_design_matrix)"
      ]
    },
    {
      "cell_type": "code",
      "execution_count": 0,
      "metadata": {},
      "outputs": [],
      "source": [
        "import Models.logisticRegression as lr\n",
        "\n",
        "ionslr = lr.Logistic_Regression(0.02,\"Ionosphere\",\"binary\")\n",
        "params = lr.fit(ionslr,ionosphere_design_matrix, ionosphere_labels, 0.01, 1e-2)\n"
      ]
    },
    {
      "cell_type": "code",
      "execution_count": 0,
      "metadata": {},
      "outputs": [],
      "source": [
        "print(params)\n",
        "\n",
        "predictions = lr.predict(ionslr,params,ionosphere_design_matrix)"
      ]
    },
    {
      "cell_type": "code",
      "execution_count": 0,
      "metadata": {},
      "outputs": [],
      "source": [
        "print(predictions)"
      ]
    },
    
  
}
