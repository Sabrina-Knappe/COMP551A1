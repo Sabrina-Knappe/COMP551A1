{
 "nbformat": 4,
 "nbformat_minor": 2,
 "metadata": {
  "language_info": {
   "name": "python",
   "codemirror_mode": {
    "name": "ipython",
    "version": 3
   },
   "version": "3.7.4-final"
  },
  "orig_nbformat": 2,
  "file_extension": ".py",
  "mimetype": "text/x-python",
  "name": "python",
  "npconvert_exporter": "python",
  "pygments_lexer": "ipython3",
  "version": 3,
  "kernelspec": {
   "name": "python37464bit6f19452678144e6e97437b4df42ffca5",
   "display_name": "Python 3.7.4 64-bit"
  }
 },
 "cells": [
  {
   "cell_type": "code",
   "execution_count": 1,
   "metadata": {},
   "outputs": [
    {
     "name": "stdout",
     "output_type": "stream",
     "text": "[[  1.        1.52101  13.64    ...   0.        0.        1.     ]\n [  2.        1.51761  13.89    ...   0.        0.        1.     ]\n [  3.        1.51618  13.53    ...   0.        0.        1.     ]\n ...\n [212.        1.52065  14.36    ...   1.64      0.        7.     ]\n [213.        1.51651  14.38    ...   1.57      0.        7.     ]\n [214.        1.51711  14.23    ...   1.67      0.        7.     ]]\n[1. 1. 1. 1. 1. 1. 1. 1. 1. 1. 1. 1. 1. 1. 1. 1. 1. 1. 1. 1. 1. 1. 1. 1.\n 1. 1. 1. 1. 1. 1. 1. 1. 1. 1. 1. 1. 1. 1. 1. 1. 1. 1. 1. 1. 1. 1. 1. 1.\n 1. 1. 1. 1. 1. 1. 1. 1. 1. 1. 1. 1. 1. 1. 1. 1. 1. 1. 1. 1. 1. 1. 2. 2.\n 2. 2. 2. 2. 2. 2. 2. 2. 2. 2. 2. 2. 2. 2. 2. 2. 2. 2. 2. 2. 2. 2. 2. 2.\n 2. 2. 2. 2. 2. 2. 2. 2. 2. 2. 2. 2. 2. 2. 2. 2. 2. 2. 2. 2. 2. 2. 2. 2.\n 2. 2. 2. 2. 2. 2. 2. 2. 2. 2. 2. 2. 2. 2. 2. 2. 2. 2. 2. 2. 2. 2. 2. 2.\n 2. 2. 3. 3. 3. 3. 3. 3. 3. 3. 3. 3. 3. 3. 3. 3. 3. 3. 3. 5. 5. 5. 5. 5.\n 5. 5. 5. 5. 5. 5. 5. 5. 6. 6. 6. 6. 6. 6. 6. 6. 6. 7. 7. 7. 7. 7. 7. 7.\n 7. 7. 7. 7. 7. 7. 7. 7. 7. 7. 7. 7. 7. 7. 7. 7. 7. 7. 7. 7. 7. 7.]\n[[  1.        1.52101  13.64    ...   8.75      0.        0.     ]\n [  2.        1.51761  13.89    ...   7.83      0.        0.     ]\n [  3.        1.51618  13.53    ...   7.78      0.        0.     ]\n ...\n [212.        1.52065  14.36    ...   8.44      1.64      0.     ]\n [213.        1.51651  14.38    ...   8.48      1.57      0.     ]\n [214.        1.51711  14.23    ...   8.62      1.67      0.     ]]\nit works\n"
    }
   ],
   "source": [
    "import Data_Preprocessing.data_preprocess_glass as glass\n",
    "import numpy as np\n",
    "import scipy\n",
    "import nltk.classify.scikitlearn\n",
    "#design_matrix, labels= glass.preprocess()\n",
    "training_data, training_labels = glass.preprocess()\n",
    "#preprocess the glass data\n",
    "print(\"it works\")\n"
   ]
  },
  {
   "cell_type": "code",
   "execution_count": null,
   "metadata": {},
   "outputs": [],
   "source": [
    "#K-Fold Validation\n",
    "import Models.kfold_CV_try as cv\n",
    "\n",
    "# Train test split\n",
    "xTrain_glass, xTest_glass, yTrain_glass, yTest_glass = cv.split_train_test(training_data, training_labels, 0.2)\n",
    "# print(xTest_ion); print(xTrain_ion); print(yTest_ion);print(yTrain_ion)"
   ]
  },
  {
   "cell_type": "code",
   "execution_count": null,
   "metadata": {},
   "outputs": [],
   "source": [
    "folds = 5 # delete folds later when embedded in function input\n",
    "# cv_train_data_ion is xTrain_ion split into five chunks\n",
    "dataset_split_in, cv_train_data_glass,cv_train_label_glass= cv.kfold_cross_validation(xTrain_ion,yTrain_ion,folds)\n",
    "# print(cv_train_data_ion,cv_train_label_ion)\n",
    "\n",
    "# the last input for cv.train_validation_split is the number of experiments you are running currently, 5 in total. \n",
    "# each experiments is organizing the five chunks from cv_train_data_ion into 4 chunks for training_data_ion and 1 chunk for validate_data_ion for cross validation, just need to uncomment the line you want to experiment currently. \n",
    "\n",
    "#exp1: \n",
    "validate_data_ion,validate_labels_ion,training_data_ion,training_labels_ion = cv.train_validation_split(cv_train_data_ion,cv_train_label_ion,1)\n",
    "\n",
    "#exp2:\n",
    "#validate_data_ion,validate_labels_ion,training_data_ion,training_labels_ion = cv.train_validation_split(cv_train_data_ion,cv_train_label_ion,2)\n",
    "\n",
    "#exp3:\n",
    "#validate_data_ion,validate_labels_ion,training_data_ion,training_labels_ion = cv.train_validation_split(cv_train_data_ion,cv_train_label_ion,3)\n",
    "\n",
    "#exp4:\n",
    "#validate_data_ion,validate_labels_ion,training_data_ion,training_labels_ion = cv.train_validation_split(cv_train_data_ion,cv_train_label_ion,4)\n",
    "\n",
    "#exp5: \n",
    "#validate_data_ion,validate_labels_ion,training_data_ion,training_labels_ion = cv.train_validation_split(cv_train_data_ion,cv_train_label_ion,5)\n",
    "print(validate_data_ion,validate_labels_ion)\n",
    "print(validate_data_ion.shape,validate_labels_ion.shape)"
   ]
  },
  {
   "cell_type": "code",
   "execution_count": 2,
   "metadata": {},
   "outputs": [
    {
     "name": "stdout",
     "output_type": "stream",
     "text": "['continuous' 'continuous' 'continuous' 'continuous' 'continuous'\n 'continuous' 'continuous' 'continuous' 'continuous' 'continuous']\nglass\nNow fitting glass\n[0, 0, 0, 0, 0, 0, 0, 0, 0, 0, 0, 0, 0, 0, 0, 0, 0, 0, 0, 0, 0, 0, 0, 0, 0, 0, 0, 0, 0, 0, 0, 0, 0, 0, 0, 0, 0, 0, 0, 0, 0, 0, 0, 0, 0, 0, 0, 0, 0, 0, 0, 0, 0, 0, 0, 0, 0, 0, 0, 0, 0, 0, 0, 0, 0, 0, 0, 0, 0, 0, 1, 1, 1, 1, 1, 1, 1, 1, 1, 1, 1, 1, 1, 1, 1, 1, 1, 1, 1, 1, 1, 1, 1, 1, 1, 1, 1, 1, 1, 1, 1, 1, 1, 1, 1, 1, 1, 1, 1, 1, 1, 1, 1, 1, 1, 1, 1, 1, 1, 1, 1, 1, 1, 1, 1, 1, 1, 1, 1, 1, 1, 1, 1, 1, 1, 1, 1, 1, 1, 1, 1, 1, 1, 1, 1, 1, 2, 2, 2, 2, 2, 2, 2, 2, 2, 2, 2, 2, 2, 2, 2, 2, 2, 3, 3, 3, 3, 3, 3, 3, 3, 3, 3, 3, 3, 3, 4, 4, 4, 4, 4, 4, 4, 4, 4, 5, 5, 5, 5, 5, 5, 5, 5, 5, 5, 5, 5, 5, 5, 5, 5, 5, 5, 5, 5, 5, 5, 5, 5, 5, 5, 5, 5, 5]\n(214, 6)\n(214, 10)\n(214, 10)\n(214, 6)\n(6, 10)\n(6, 10)\nlog prior\n[[-1.11748077]\n [-1.03524267]\n [-2.53276267]\n [-2.80102666]\n [-3.16875144]\n [-1.99868019]]\nlikelihood \n[[-3.64026949e+01 -2.75919176e+01 -2.05326157e+01 ... -2.05412838e+04\n  -2.07444002e+04 -2.09485028e+04]\n [-4.20640560e+01 -3.26024000e+01 -2.48723509e+01 ... -2.04112292e+04\n  -2.06136968e+04 -2.08171513e+04]\n [-4.20640560e+01 -3.26024000e+01 -2.48723509e+01 ... -2.04112292e+04\n  -2.06136968e+04 -2.08171513e+04]\n [-4.20640560e+01 -3.26024000e+01 -2.48723509e+01 ... -2.04112292e+04\n  -2.06136968e+04 -2.08171513e+04]\n [-4.20640560e+01 -3.26024000e+01 -2.48723509e+01 ... -2.04112292e+04\n  -2.06136968e+04 -2.08171513e+04]\n [-4.20640560e+01 -3.26024000e+01 -2.48723509e+01 ... -2.04112292e+04\n  -2.06136968e+04 -2.08171513e+04]]\n(6, 214)\n(214,)\n(214,)\n(10, 214)\nmodel\n[[   -37.52017565    -28.70939833    -21.65009646 ... -20542.40132876\n  -20745.51767605 -20949.6202613 ]\n [   -43.09929866    -33.63764268    -25.90759361 ... -20412.26439748\n  -20614.73199322 -20818.18649277]\n [   -44.59681866    -35.13516267    -27.40511361 ... -20413.76191748\n  -20616.22951321 -20819.68401277]\n [   -44.86508264    -35.40342666    -27.6733776  ... -20414.03018146\n  -20616.4977772  -20819.95227675]\n [   -45.23280742    -35.77115144    -28.04110238 ... -20414.39790624\n  -20616.86550198 -20820.32000153]\n [   -44.06273617    -34.60108019    -26.87103112 ... -20413.22783499\n  -20615.69543073 -20819.14993028]]\n(6, 214)\n[1.00000e+00 1.52101e+00 1.36400e+01 4.49000e+00 1.10000e+00 7.17800e+01\n 6.00000e-02 8.75000e+00 0.00000e+00 0.00000e+00]\n[0 0 0 0 0 0 0 0 0 1 1 1 1 1 1 1 1 1 1 1 1 1 1 1 1 1 1 1 1 1 1 1 1 1 1 1 1\n 1 1 1 1 1 1 1 1 1 1 1 1 1 1 1 1 1 1 1 1 1 1 1 1 1 1 1 1 1 1 1 1 1 1 1 1 1\n 1 1 1 1 1 1 1 1 1 1 1 1 1 1 1 1 1 1 1 1 1 1 1 1 1 1 1 1 1 1 1 1 1 1 1 1 1\n 1 1 1 1 1 1 1 1 1 1 1 1 1 1 1 1 1 1 1 1 1 1 1 1 1 1 1 1 1 1 1 1 1 1 1 1 1\n 1 1 1 1 1 1 1 1 1 1 1 1 1 1 1 1 1 1 1 1 1 1 1 1 1 1 1 1 1 1 1 1 1 1 1 1 1\n 1 1 1 1 1 1 1 1 1 1 1 1 1 1 1 1 1 1 1 1 1 1 1 1 1 1 1 1 1]\n"
    },
    {
     "ename": "ValueError",
     "evalue": "operands could not be broadcast together with shapes (214,) (10,) ",
     "output_type": "error",
     "traceback": [
      "\u001b[0;31m---------------------------------------------------------------------------\u001b[0m",
      "\u001b[0;31mValueError\u001b[0m                                Traceback (most recent call last)",
      "\u001b[0;32m<ipython-input-2-cb9002eb8f29>\u001b[0m in \u001b[0;36m<module>\u001b[0;34m\u001b[0m\n\u001b[1;32m      9\u001b[0m \u001b[0mprint\u001b[0m\u001b[0;34m(\u001b[0m\u001b[0mglass_bayes\u001b[0m\u001b[0;34m.\u001b[0m\u001b[0mname\u001b[0m\u001b[0;34m)\u001b[0m\u001b[0;34m\u001b[0m\u001b[0;34m\u001b[0m\u001b[0m\n\u001b[1;32m     10\u001b[0m \u001b[0mnb_results\u001b[0m \u001b[0;34m=\u001b[0m \u001b[0mglass_bayes\u001b[0m\u001b[0;34m.\u001b[0m\u001b[0mfit\u001b[0m\u001b[0;34m(\u001b[0m\u001b[0mtraining_data\u001b[0m\u001b[0;34m,\u001b[0m \u001b[0mtraining_labels\u001b[0m\u001b[0;34m,\u001b[0m \u001b[0mtraining_data\u001b[0m\u001b[0;34m)\u001b[0m\u001b[0;34m\u001b[0m\u001b[0;34m\u001b[0m\u001b[0m\n\u001b[0;32m---> 11\u001b[0;31m \u001b[0mnb_test_results\u001b[0m \u001b[0;34m=\u001b[0m \u001b[0mglass_bayes\u001b[0m\u001b[0;34m.\u001b[0m\u001b[0mpredict\u001b[0m\u001b[0;34m(\u001b[0m\u001b[0mtraining_data\u001b[0m\u001b[0;34m,\u001b[0m \u001b[0mnb_results\u001b[0m\u001b[0;34m)\u001b[0m\u001b[0;34m\u001b[0m\u001b[0;34m\u001b[0m\u001b[0m\n\u001b[0m\u001b[1;32m     12\u001b[0m \u001b[0;34m\u001b[0m\u001b[0m\n\u001b[1;32m     13\u001b[0m \u001b[0mprint\u001b[0m\u001b[0;34m(\u001b[0m\u001b[0;34m\"NAIVE BAYES RESULTS\"\u001b[0m\u001b[0;34m)\u001b[0m\u001b[0;34m\u001b[0m\u001b[0;34m\u001b[0m\u001b[0m\n",
      "\u001b[0;32m~/Documents/GitHub/COMP551A1/Models/naive_bayes_v2.py\u001b[0m in \u001b[0;36mpredict\u001b[0;34m(self, test_data, params)\u001b[0m\n\u001b[1;32m    102\u001b[0m             \u001b[0mprint\u001b[0m\u001b[0;34m(\u001b[0m\u001b[0mt\u001b[0m\u001b[0;34m)\u001b[0m\u001b[0;34m\u001b[0m\u001b[0;34m\u001b[0m\u001b[0m\n\u001b[1;32m    103\u001b[0m             \u001b[0mprint\u001b[0m\u001b[0;34m(\u001b[0m\u001b[0mparams\u001b[0m\u001b[0;34m)\u001b[0m\u001b[0;34m\u001b[0m\u001b[0;34m\u001b[0m\u001b[0m\n\u001b[0;32m--> 104\u001b[0;31m             \u001b[0moptions\u001b[0m\u001b[0;34m=\u001b[0m \u001b[0mnp\u001b[0m\u001b[0;34m.\u001b[0m\u001b[0mmultiply\u001b[0m\u001b[0;34m(\u001b[0m\u001b[0mparams\u001b[0m\u001b[0;34m,\u001b[0m \u001b[0mt\u001b[0m\u001b[0;34m)\u001b[0m\u001b[0;34m\u001b[0m\u001b[0;34m\u001b[0m\u001b[0m\n\u001b[0m\u001b[1;32m    105\u001b[0m             \u001b[0mprediction\u001b[0m\u001b[0;34m=\u001b[0m \u001b[0mnp\u001b[0m\u001b[0;34m.\u001b[0m\u001b[0margmax\u001b[0m\u001b[0;34m(\u001b[0m\u001b[0moptions\u001b[0m\u001b[0;34m)\u001b[0m\u001b[0;34m\u001b[0m\u001b[0;34m\u001b[0m\u001b[0m\n\u001b[1;32m    106\u001b[0m             \u001b[0mprint\u001b[0m\u001b[0;34m(\u001b[0m\u001b[0;34m\"We predict that \"\u001b[0m\u001b[0;34m+\u001b[0m\u001b[0mt\u001b[0m\u001b[0;34m+\u001b[0m\u001b[0;34m\"has label \"\u001b[0m\u001b[0;34m+\u001b[0m\u001b[0mprediction\u001b[0m\u001b[0;34m)\u001b[0m\u001b[0;34m\u001b[0m\u001b[0;34m\u001b[0m\u001b[0m\n",
      "\u001b[0;31mValueError\u001b[0m: operands could not be broadcast together with shapes (214,) (10,) "
     ]
    }
   ],
   "source": [
    "import Models.naive_bayes_v2 as bayes\n",
    "import numpy as np\n",
    "import Models.logisticRegression as logReg \n",
    "features_types= np.array([\"continuous\",\"continuous\",\"continuous\",\"continuous\",\"continuous\",\"continuous\",\"continuous\",\"continuous\",\"continuous\",\"continuous\"])\n",
    "print(features_types)\n",
    "\n",
    "#NAIVE BAYES\n",
    "glass_bayes= bayes.Naive_Bayes(\"glass\", \"multiclass\", features_types)\n",
    "print(glass_bayes.name)\n",
    "nb_results = glass_bayes.fit(training_data, training_labels, training_data)\n",
    "nb_test_results = glass_bayes.predict(training_data, nb_results)\n",
    "\n",
    "print(\"NAIVE BAYES RESULTS\")\n",
    "print(nb_results)\n",
    "print(nb_test_results)\n",
    "print(nb_results.shape)\n",
    "# glass_bayes.predict()\n",
    "\n",
    "#LINEAR REGRESSION AS BASELINE"
   ]
  },
  {
   "cell_type": "code",
   "execution_count": null,
   "metadata": {},
   "outputs": [],
   "source": [
    "import numpy as np\n",
    "import Models.logisticRegression as logReg \n",
    "#LOGISTIC REGRESSION\n",
    "print(\"LOGISTIC REGRESSION\")\n",
    "glass_log= logReg.Logistic_Regression(.6, \"glass\", \"categorical\")\n",
    "print(glass_log.name)\n",
    "log_results= glass_log.fit(training_data, training_labels, learning_rate=1, term=1)\n",
    "print(log_results)\n",
    "print(log_results.shape)"
   ]
  }
 ]
}