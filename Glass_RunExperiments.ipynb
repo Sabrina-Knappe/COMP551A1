{
 "nbformat": 4,
 "nbformat_minor": 2,
 "metadata": {
  "language_info": {
   "name": "python",
   "codemirror_mode": {
    "name": "ipython",
    "version": 3
   },
   "version": "3.7.4-final"
  },
  "orig_nbformat": 2,
  "file_extension": ".py",
  "mimetype": "text/x-python",
  "name": "python",
  "npconvert_exporter": "python",
  "pygments_lexer": "ipython3",
  "version": 3,
  "kernelspec": {
   "name": "python37464bit6f19452678144e6e97437b4df42ffca5",
   "display_name": "Python 3.7.4 64-bit"
  }
 },
 "cells": [
  {
   "cell_type": "code",
   "execution_count": 1,
   "metadata": {},
   "outputs": [
    {
     "name": "stdout",
     "output_type": "stream",
     "text": "[[  1.        1.52101  13.64    ...   0.        0.        1.     ]\n [  2.        1.51761  13.89    ...   0.        0.        1.     ]\n [  3.        1.51618  13.53    ...   0.        0.        1.     ]\n ...\n [212.        1.52065  14.36    ...   1.64      0.        7.     ]\n [213.        1.51651  14.38    ...   1.57      0.        7.     ]\n [214.        1.51711  14.23    ...   1.67      0.        7.     ]]\n[1. 1. 1. 1. 1. 1. 1. 1. 1. 1. 1. 1. 1. 1. 1. 1. 1. 1. 1. 1. 1. 1. 1. 1.\n 1. 1. 1. 1. 1. 1. 1. 1. 1. 1. 1. 1. 1. 1. 1. 1. 1. 1. 1. 1. 1. 1. 1. 1.\n 1. 1. 1. 1. 1. 1. 1. 1. 1. 1. 1. 1. 1. 1. 1. 1. 1. 1. 1. 1. 1. 1. 2. 2.\n 2. 2. 2. 2. 2. 2. 2. 2. 2. 2. 2. 2. 2. 2. 2. 2. 2. 2. 2. 2. 2. 2. 2. 2.\n 2. 2. 2. 2. 2. 2. 2. 2. 2. 2. 2. 2. 2. 2. 2. 2. 2. 2. 2. 2. 2. 2. 2. 2.\n 2. 2. 2. 2. 2. 2. 2. 2. 2. 2. 2. 2. 2. 2. 2. 2. 2. 2. 2. 2. 2. 2. 2. 2.\n 2. 2. 3. 3. 3. 3. 3. 3. 3. 3. 3. 3. 3. 3. 3. 3. 3. 3. 3. 5. 5. 5. 5. 5.\n 5. 5. 5. 5. 5. 5. 5. 5. 6. 6. 6. 6. 6. 6. 6. 6. 6. 7. 7. 7. 7. 7. 7. 7.\n 7. 7. 7. 7. 7. 7. 7. 7. 7. 7. 7. 7. 7. 7. 7. 7. 7. 7. 7. 7. 7. 7.]\n[[  1.        1.52101  13.64    ...   8.75      0.        0.     ]\n [  2.        1.51761  13.89    ...   7.83      0.        0.     ]\n [  3.        1.51618  13.53    ...   7.78      0.        0.     ]\n ...\n [212.        1.52065  14.36    ...   8.44      1.64      0.     ]\n [213.        1.51651  14.38    ...   8.48      1.57      0.     ]\n [214.        1.51711  14.23    ...   8.62      1.67      0.     ]]\nit works\n"
    }
   ],
   "source": [
    "import Data_Preprocessing.data_preprocess_glass as glass\n",
    "import numpy as np\n",
    "import scipy\n",
    "import nltk.classify.scikitlearn\n",
    "#design_matrix, labels= glass.preprocess()\n",
    "training_data, training_labels = glass.preprocess()\n",
    "#preprocess the glass data\n",
    "print(\"it works\")\n"
   ]
  },
  {
   "cell_type": "code",
   "execution_count": 3,
   "metadata": {},
   "outputs": [],
   "source": [
    "#K-Fold Validation\n",
    "import Models.kfold_CV_try as cv\n",
    "\n",
    "# Train test split\n",
    "xTrain_glass, xTest_glass, yTrain_glass, yTest_glass = cv.split_train_test(training_data, training_labels, 0.2)\n",
    "# print(xTest_ion); print(xTrain_ion); print(yTest_ion);print(yTrain_ion)"
   ]
  },
  {
   "cell_type": "code",
   "execution_count": 5,
   "metadata": {},
   "outputs": [
    {
     "name": "stdout",
     "output_type": "stream",
     "text": "[[74.0 1.51631 13.34 3.57 1.57 72.87 0.61 7.89 0.0 0.0]\n [79.0 1.51613 13.92 3.52 1.25 72.88 0.37 7.94 0.0 0.14]\n [194.0 1.51719 14.75 0.0 2.0 73.02 0.0 8.53 1.59 0.08]\n [133.0 1.51813 13.43 3.98 1.18 72.49 0.58 8.15 0.0 0.0]\n [29.0 1.51768 12.56 3.52 1.43 73.15 0.57 8.54 0.0 0.0]\n [193.0 1.51623 14.2 0.0 2.79 73.46 0.04 9.04 0.4 0.09]\n [86.0 1.51625 13.36 3.58 1.49 72.72 0.45 8.21 0.0 0.0]\n [26.0 1.51764 12.98 3.54 1.21 73.0 0.65 8.53 0.0 0.0]\n [132.0 1.52614 13.7 0.0 1.36 71.24 0.19 13.44 0.0 0.1]\n [141.0 1.5169 13.33 3.54 1.61 72.54 0.68 8.11 0.0 0.0]\n [104.0 1.52725 13.8 3.15 0.66 70.57 0.08 11.64 0.0 0.0]\n [120.0 1.51652 13.56 3.57 1.47 72.45 0.64 7.96 0.0 0.0]\n [150.0 1.51643 12.16 3.52 1.35 72.89 0.57 8.53 0.0 0.0]\n [178.0 1.51937 13.79 2.41 1.19 72.76 0.0 9.77 0.0 0.0]\n [125.0 1.52177 13.2 3.68 1.15 72.75 0.54 8.52 0.0 0.0]\n [41.0 1.51793 12.79 3.5 1.12 73.03 0.64 8.77 0.0 0.0]\n [110.0 1.51818 13.72 0.0 0.56 74.45 0.0 10.99 0.0 0.0]\n [147.0 1.51769 13.65 3.66 1.11 72.77 0.11 8.6 0.0 0.0]\n [17.0 1.51784 12.68 3.67 1.16 73.11 0.61 8.7 0.0 0.0]\n [158.0 1.52121 14.03 3.76 0.58 71.79 0.11 9.65 0.0 0.0]\n [101.0 1.51655 12.75 2.85 1.44 73.27 0.57 8.79 0.11 0.22]\n [50.0 1.51898 13.58 3.35 1.23 72.08 0.59 8.91 0.0 0.0]\n [27.0 1.51793 13.21 3.48 1.41 72.64 0.59 8.43 0.0 0.0]\n [139.0 1.51674 12.79 3.52 1.54 73.36 0.66 7.9 0.0 0.0]\n [130.0 1.5202 13.98 1.35 1.63 71.76 0.39 10.56 0.0 0.18]\n [207.0 1.51645 14.94 0.0 1.87 73.11 0.0 8.67 1.38 0.0]\n [24.0 1.51751 12.81 3.57 1.35 73.02 0.62 8.59 0.0 0.0]\n [42.0 1.51755 12.71 3.42 1.2 73.2 0.59 8.64 0.0 0.0]\n [205.0 1.51617 14.95 0.0 2.27 73.3 0.0 8.71 0.67 0.0]\n [102.0 1.5173 12.35 2.72 1.63 72.87 0.7 9.23 0.0 0.0]\n [28.0 1.51721 12.87 3.48 1.33 73.04 0.56 8.43 0.0 0.0]\n [49.0 1.52223 13.21 3.77 0.79 71.99 0.13 10.02 0.0 0.0]\n [37.0 1.51909 13.89 3.53 1.32 71.81 0.51 8.78 0.11 0.0]\n [52.0 1.51926 13.2 3.33 1.28 72.36 0.6 9.14 0.0 0.11]] [2.0 2.0 7.0 2.0 1.0 7.0 2.0 1.0 2.0 2.0 2.0 2.0 3.0 6.0 2.0 1.0 2.0 3.0\n 1.0 3.0 2.0 1.0 1.0 2.0 2.0 7.0 1.0 1.0 7.0 2.0 1.0 1.0 1.0 1.0]\n(34, 10) (34,)\n"
    }
   ],
   "source": [
    "folds = 5 # delete folds later when embedded in function input\n",
    "# cv_train_data_ion is xTrain_ion split into five chunks\n",
    "dataset_split_in, cv_train_data_glass,cv_train_label_glass= cv.kfold_cross_validation(xTrain_glass,yTrain_glass,folds)\n",
    "# print(cv_train_data_ion,cv_train_label_ion)\n",
    "\n",
    "# the last input for cv.train_validation_split is the number of experiments you are running currently, 5 in total. \n",
    "# each experiments is organizing the five chunks from cv_train_data_ion into 4 chunks for training_data_ion and 1 chunk for validate_data_ion for cross validation, just need to uncomment the line you want to experiment currently. \n",
    "\n",
    "#exp1: \n",
    "validate_data_glass,validate_labels_glass,training_data_glass,training_labels_glass = cv.train_validation_split(cv_train_data_glass,cv_train_label_glass,1)\n",
    "\n",
    "#exp2:\n",
    "#validate_data_ion,validate_labels_ion,training_data_ion,training_labels_ion = cv.train_validation_split(cv_train_data_ion,cv_train_label_ion,2)\n",
    "\n",
    "#exp3:\n",
    "#validate_data_ion,validate_labels_ion,training_data_ion,training_labels_ion = cv.train_validation_split(cv_train_data_ion,cv_train_label_ion,3)\n",
    "\n",
    "#exp4:\n",
    "#validate_data_ion,validate_labels_ion,training_data_ion,training_labels_ion = cv.train_validation_split(cv_train_data_ion,cv_train_label_ion,4)\n",
    "\n",
    "#exp5: \n",
    "#validate_data_ion,validate_labels_ion,training_data_ion,training_labels_ion = cv.train_validation_split(cv_train_data_ion,cv_train_label_ion,5)\n",
    "print(validate_data_glass,validate_labels_glass)\n",
    "print(validate_data_glass.shape,validate_labels_glass.shape)"
   ]
  },
  {
   "cell_type": "code",
   "execution_count": 6,
   "metadata": {},
   "outputs": [
    {
     "name": "stdout",
     "output_type": "stream",
     "text": "['continuous' 'continuous' 'continuous' 'continuous' 'continuous'\n 'continuous' 'continuous' 'continuous' 'continuous' 'continuous']\nglass\nNow fitting glass\n[1, 3, 5, 1, 1, 3, 3, 5, 1, 5, 1, 5, 2, 1, 0, 1, 1, 1, 1, 4, 2, 0, 1, 0, 0, 0, 4, 1, 1, 5, 0, 0, 5, 1, 2, 1, 2, 1, 1, 0, 0, 3, 0, 0, 3, 0, 0, 0, 1, 0, 2, 0, 3, 1, 5, 0, 0, 5, 2, 1, 0, 1, 1, 4, 3, 0, 0, 3, 1, 0, 5, 1, 1, 4, 1, 0, 0, 0, 0, 1, 1, 5, 0, 0, 3, 3, 0, 5, 2, 1, 1, 4, 5, 0, 1, 1, 0, 0, 1, 5, 0, 1, 0, 1, 0, 0, 0, 3, 0, 0, 5, 2, 1, 2, 5, 0, 0, 1, 1, 5, 1, 4, 0, 1, 0, 0, 0, 1, 5, 0, 1, 1, 0, 0, 0, 5]\n(136, 6)\n(136, 10)\n(136, 10)\n(136, 6)\n(6, 10)\n(6, 10)\nlog prior\n[[-1.02083459]\n [-1.15145477]\n [-2.71543031]\n [-2.51475961]\n [-3.12089542]\n [-2.02228313]]\n"
    },
    {
     "ename": "IndexError",
     "evalue": "too many indices for array",
     "output_type": "error",
     "traceback": [
      "\u001b[0;31m---------------------------------------------------------------------------\u001b[0m",
      "\u001b[0;31mIndexError\u001b[0m                                Traceback (most recent call last)",
      "\u001b[0;32m<ipython-input-6-ebc316c76c56>\u001b[0m in \u001b[0;36m<module>\u001b[0;34m\u001b[0m\n\u001b[1;32m      8\u001b[0m \u001b[0mglass_bayes\u001b[0m\u001b[0;34m=\u001b[0m \u001b[0mbayes\u001b[0m\u001b[0;34m.\u001b[0m\u001b[0mNaive_Bayes\u001b[0m\u001b[0;34m(\u001b[0m\u001b[0;34m\"glass\"\u001b[0m\u001b[0;34m,\u001b[0m \u001b[0;34m\"multiclass\"\u001b[0m\u001b[0;34m,\u001b[0m \u001b[0mfeatures_types\u001b[0m\u001b[0;34m)\u001b[0m\u001b[0;34m\u001b[0m\u001b[0;34m\u001b[0m\u001b[0m\n\u001b[1;32m      9\u001b[0m \u001b[0mprint\u001b[0m\u001b[0;34m(\u001b[0m\u001b[0mglass_bayes\u001b[0m\u001b[0;34m.\u001b[0m\u001b[0mname\u001b[0m\u001b[0;34m)\u001b[0m\u001b[0;34m\u001b[0m\u001b[0;34m\u001b[0m\u001b[0m\n\u001b[0;32m---> 10\u001b[0;31m \u001b[0mnb_results\u001b[0m \u001b[0;34m=\u001b[0m \u001b[0mglass_bayes\u001b[0m\u001b[0;34m.\u001b[0m\u001b[0mfit\u001b[0m\u001b[0;34m(\u001b[0m\u001b[0mtraining_data_glass\u001b[0m\u001b[0;34m,\u001b[0m \u001b[0mtraining_labels_glass\u001b[0m\u001b[0;34m,\u001b[0m \u001b[0mvalidate_labels_glass\u001b[0m\u001b[0;34m)\u001b[0m\u001b[0;34m\u001b[0m\u001b[0;34m\u001b[0m\u001b[0m\n\u001b[0m\u001b[1;32m     11\u001b[0m \u001b[0mnb_test_results\u001b[0m \u001b[0;34m=\u001b[0m \u001b[0mglass_bayes\u001b[0m\u001b[0;34m.\u001b[0m\u001b[0mpredict\u001b[0m\u001b[0;34m(\u001b[0m\u001b[0mxTest_glass\u001b[0m\u001b[0;34m,\u001b[0m \u001b[0mnb_results\u001b[0m\u001b[0;34m)\u001b[0m\u001b[0;34m\u001b[0m\u001b[0;34m\u001b[0m\u001b[0m\n\u001b[1;32m     12\u001b[0m \u001b[0;34m\u001b[0m\u001b[0m\n",
      "\u001b[0;32m~/Documents/GitHub/COMP551A1/Models/naive_bayes_v2.py\u001b[0m in \u001b[0;36mfit\u001b[0;34m(self, training_data, training_labels, test_data)\u001b[0m\n\u001b[1;32m     76\u001b[0m             \u001b[0;31m# print(\"hit\")\u001b[0m\u001b[0;34m\u001b[0m\u001b[0;34m\u001b[0m\u001b[0;34m\u001b[0m\u001b[0m\n\u001b[1;32m     77\u001b[0m             \u001b[0;31m# print(continuous.shape)\u001b[0m\u001b[0;34m\u001b[0m\u001b[0;34m\u001b[0m\u001b[0;34m\u001b[0m\u001b[0m\n\u001b[0;32m---> 78\u001b[0;31m             \u001b[0mcontinuous_model\u001b[0m\u001b[0;34m=\u001b[0m \u001b[0mself\u001b[0m\u001b[0;34m.\u001b[0m\u001b[0mcontinuous\u001b[0m\u001b[0;34m(\u001b[0m\u001b[0mcontinuous\u001b[0m\u001b[0;34m,\u001b[0m \u001b[0mhot_labels\u001b[0m\u001b[0;34m,\u001b[0m \u001b[0mtest_data\u001b[0m\u001b[0;34m)\u001b[0m\u001b[0;34m\u001b[0m\u001b[0;34m\u001b[0m\u001b[0m\n\u001b[0m\u001b[1;32m     79\u001b[0m \u001b[0;34m\u001b[0m\u001b[0m\n\u001b[1;32m     80\u001b[0m         \u001b[0mprint\u001b[0m\u001b[0;34m(\u001b[0m\u001b[0mbinary_model\u001b[0m\u001b[0;34m.\u001b[0m\u001b[0mshape\u001b[0m\u001b[0;34m)\u001b[0m\u001b[0;34m\u001b[0m\u001b[0;34m\u001b[0m\u001b[0m\n",
      "\u001b[0;32m~/Documents/GitHub/COMP551A1/Models/naive_bayes_v2.py\u001b[0m in \u001b[0;36mcontinuous\u001b[0;34m(self, training_data, training_labels, test_data)\u001b[0m\n\u001b[1;32m    176\u001b[0m         \u001b[0mprint\u001b[0m\u001b[0;34m(\u001b[0m\u001b[0;34m\"log prior\"\u001b[0m\u001b[0;34m)\u001b[0m\u001b[0;34m\u001b[0m\u001b[0;34m\u001b[0m\u001b[0m\n\u001b[1;32m    177\u001b[0m         \u001b[0mprint\u001b[0m\u001b[0;34m(\u001b[0m\u001b[0mlog_prior\u001b[0m\u001b[0;34m)\u001b[0m\u001b[0;34m\u001b[0m\u001b[0;34m\u001b[0m\u001b[0m\n\u001b[0;32m--> 178\u001b[0;31m         \u001b[0mlog_likelihood\u001b[0m\u001b[0;34m=\u001b[0m \u001b[0;34m-\u001b[0m \u001b[0mnp\u001b[0m\u001b[0;34m.\u001b[0m\u001b[0msum\u001b[0m\u001b[0;34m(\u001b[0m\u001b[0;36m.5\u001b[0m\u001b[0;34m*\u001b[0m\u001b[0;34m(\u001b[0m\u001b[0;34m(\u001b[0m\u001b[0;34m(\u001b[0m\u001b[0mtest_data\u001b[0m\u001b[0;34m[\u001b[0m\u001b[0;32mNone\u001b[0m\u001b[0;34m,\u001b[0m \u001b[0;34m:\u001b[0m\u001b[0;34m,\u001b[0m \u001b[0;34m:\u001b[0m\u001b[0;34m]\u001b[0m \u001b[0;34m-\u001b[0m \u001b[0mmu\u001b[0m\u001b[0;34m[\u001b[0m\u001b[0;34m:\u001b[0m\u001b[0;34m,\u001b[0m\u001b[0;32mNone\u001b[0m\u001b[0;34m,\u001b[0m\u001b[0;34m:\u001b[0m\u001b[0;34m]\u001b[0m\u001b[0;34m)\u001b[0m\u001b[0;34m)\u001b[0m\u001b[0;34m**\u001b[0m\u001b[0;36m2\u001b[0m\u001b[0;34m)\u001b[0m\u001b[0;34m,\u001b[0m \u001b[0;36m2\u001b[0m\u001b[0;34m)\u001b[0m\u001b[0;34m\u001b[0m\u001b[0;34m\u001b[0m\u001b[0m\n\u001b[0m\u001b[1;32m    179\u001b[0m         \u001b[0mprint\u001b[0m\u001b[0;34m(\u001b[0m\u001b[0;34m\"likelihood \"\u001b[0m\u001b[0;34m)\u001b[0m\u001b[0;34m\u001b[0m\u001b[0;34m\u001b[0m\u001b[0m\n\u001b[1;32m    180\u001b[0m         \u001b[0mprint\u001b[0m\u001b[0;34m(\u001b[0m\u001b[0mlog_likelihood\u001b[0m\u001b[0;34m)\u001b[0m\u001b[0;34m\u001b[0m\u001b[0;34m\u001b[0m\u001b[0m\n",
      "\u001b[0;31mIndexError\u001b[0m: too many indices for array"
     ]
    }
   ],
   "source": [
    "import Models.naive_bayes_v2 as bayes\n",
    "import numpy as np\n",
    "import Models.logisticRegression as logReg \n",
    "features_types= np.array([\"continuous\",\"continuous\",\"continuous\",\"continuous\",\"continuous\",\"continuous\",\"continuous\",\"continuous\",\"continuous\",\"continuous\"])\n",
    "print(features_types)\n",
    "\n",
    "#NAIVE BAYES\n",
    "glass_bayes= bayes.Naive_Bayes(\"glass\", \"multiclass\", features_types)\n",
    "print(glass_bayes.name)\n",
    "nb_results = glass_bayes.fit(training_data_glass, training_labels_glass, validate_labels_glass)\n",
    "nb_test_results = glass_bayes.predict(xTest_glass, nb_results)\n",
    "\n",
    "print(\"NAIVE BAYES RESULTS\")\n",
    "print(nb_results)\n",
    "print(nb_test_results)\n",
    "print(nb_results.shape)\n",
    "# glass_bayes.predict()\n",
    "\n",
    "#LINEAR REGRESSION AS BASELINE"
   ]
  },
  {
   "cell_type": "code",
   "execution_count": 7,
   "metadata": {},
   "outputs": [
    {
     "name": "stdout",
     "output_type": "stream",
     "text": "LOGISTIC REGRESSION\nglass\nNow fitting glass\n[1, 3, 5, 1, 1, 3, 3, 5, 1, 5, 1, 5, 2, 1, 0, 1, 1, 1, 1, 4, 2, 0, 1, 0, 0, 0, 4, 1, 1, 5, 0, 0, 5, 1, 2, 1, 2, 1, 1, 0, 0, 3, 0, 0, 3, 0, 0, 0, 1, 0, 2, 0, 3, 1, 5, 0, 0, 5, 2, 1, 0, 1, 1, 4, 3, 0, 0, 3, 1, 0, 5, 1, 1, 4, 1, 0, 0, 0, 0, 1, 1, 5, 0, 0, 3, 3, 0, 5, 2, 1, 1, 4, 5, 0, 1, 1, 0, 0, 1, 5, 0, 1, 0, 1, 0, 0, 0, 3, 0, 0, 5, 2, 1, 2, 5, 0, 0, 1, 1, 5, 1, 4, 0, 1, 0, 0, 0, 1, 5, 0, 1, 1, 0, 0, 0, 5]\n[[0, 1, 0, 0, 0, 0], [0, 0, 0, 1, 0, 0], [0, 0, 0, 0, 0, 1], [0, 1, 0, 0, 0, 0], [0, 1, 0, 0, 0, 0], [0, 0, 0, 1, 0, 0], [0, 0, 0, 1, 0, 0], [0, 0, 0, 0, 0, 1], [0, 1, 0, 0, 0, 0], [0, 0, 0, 0, 0, 1], [0, 1, 0, 0, 0, 0], [0, 0, 0, 0, 0, 1], [0, 0, 1, 0, 0, 0], [0, 1, 0, 0, 0, 0], [1, 0, 0, 0, 0, 0], [0, 1, 0, 0, 0, 0], [0, 1, 0, 0, 0, 0], [0, 1, 0, 0, 0, 0], [0, 1, 0, 0, 0, 0], [0, 0, 0, 0, 1, 0], [0, 0, 1, 0, 0, 0], [1, 0, 0, 0, 0, 0], [0, 1, 0, 0, 0, 0], [1, 0, 0, 0, 0, 0], [1, 0, 0, 0, 0, 0], [1, 0, 0, 0, 0, 0], [0, 0, 0, 0, 1, 0], [0, 1, 0, 0, 0, 0], [0, 1, 0, 0, 0, 0], [0, 0, 0, 0, 0, 1], [1, 0, 0, 0, 0, 0], [1, 0, 0, 0, 0, 0], [0, 0, 0, 0, 0, 1], [0, 1, 0, 0, 0, 0], [0, 0, 1, 0, 0, 0], [0, 1, 0, 0, 0, 0], [0, 0, 1, 0, 0, 0], [0, 1, 0, 0, 0, 0], [0, 1, 0, 0, 0, 0], [1, 0, 0, 0, 0, 0], [1, 0, 0, 0, 0, 0], [0, 0, 0, 1, 0, 0], [1, 0, 0, 0, 0, 0], [1, 0, 0, 0, 0, 0], [0, 0, 0, 1, 0, 0], [1, 0, 0, 0, 0, 0], [1, 0, 0, 0, 0, 0], [1, 0, 0, 0, 0, 0], [0, 1, 0, 0, 0, 0], [1, 0, 0, 0, 0, 0], [0, 0, 1, 0, 0, 0], [1, 0, 0, 0, 0, 0], [0, 0, 0, 1, 0, 0], [0, 1, 0, 0, 0, 0], [0, 0, 0, 0, 0, 1], [1, 0, 0, 0, 0, 0], [1, 0, 0, 0, 0, 0], [0, 0, 0, 0, 0, 1], [0, 0, 1, 0, 0, 0], [0, 1, 0, 0, 0, 0], [1, 0, 0, 0, 0, 0], [0, 1, 0, 0, 0, 0], [0, 1, 0, 0, 0, 0], [0, 0, 0, 0, 1, 0], [0, 0, 0, 1, 0, 0], [1, 0, 0, 0, 0, 0], [1, 0, 0, 0, 0, 0], [0, 0, 0, 1, 0, 0], [0, 1, 0, 0, 0, 0], [1, 0, 0, 0, 0, 0], [0, 0, 0, 0, 0, 1], [0, 1, 0, 0, 0, 0], [0, 1, 0, 0, 0, 0], [0, 0, 0, 0, 1, 0], [0, 1, 0, 0, 0, 0], [1, 0, 0, 0, 0, 0], [1, 0, 0, 0, 0, 0], [1, 0, 0, 0, 0, 0], [1, 0, 0, 0, 0, 0], [0, 1, 0, 0, 0, 0], [0, 1, 0, 0, 0, 0], [0, 0, 0, 0, 0, 1], [1, 0, 0, 0, 0, 0], [1, 0, 0, 0, 0, 0], [0, 0, 0, 1, 0, 0], [0, 0, 0, 1, 0, 0], [1, 0, 0, 0, 0, 0], [0, 0, 0, 0, 0, 1], [0, 0, 1, 0, 0, 0], [0, 1, 0, 0, 0, 0], [0, 1, 0, 0, 0, 0], [0, 0, 0, 0, 1, 0], [0, 0, 0, 0, 0, 1], [1, 0, 0, 0, 0, 0], [0, 1, 0, 0, 0, 0], [0, 1, 0, 0, 0, 0], [1, 0, 0, 0, 0, 0], [1, 0, 0, 0, 0, 0], [0, 1, 0, 0, 0, 0], [0, 0, 0, 0, 0, 1], [1, 0, 0, 0, 0, 0], [0, 1, 0, 0, 0, 0], [1, 0, 0, 0, 0, 0], [0, 1, 0, 0, 0, 0], [1, 0, 0, 0, 0, 0], [1, 0, 0, 0, 0, 0], [1, 0, 0, 0, 0, 0], [0, 0, 0, 1, 0, 0], [1, 0, 0, 0, 0, 0], [1, 0, 0, 0, 0, 0], [0, 0, 0, 0, 0, 1], [0, 0, 1, 0, 0, 0], [0, 1, 0, 0, 0, 0], [0, 0, 1, 0, 0, 0], [0, 0, 0, 0, 0, 1], [1, 0, 0, 0, 0, 0], [1, 0, 0, 0, 0, 0], [0, 1, 0, 0, 0, 0], [0, 1, 0, 0, 0, 0], [0, 0, 0, 0, 0, 1], [0, 1, 0, 0, 0, 0], [0, 0, 0, 0, 1, 0], [1, 0, 0, 0, 0, 0], [0, 1, 0, 0, 0, 0], [1, 0, 0, 0, 0, 0], [1, 0, 0, 0, 0, 0], [1, 0, 0, 0, 0, 0], [0, 1, 0, 0, 0, 0], [0, 0, 0, 0, 0, 1], [1, 0, 0, 0, 0, 0], [0, 1, 0, 0, 0, 0], [0, 1, 0, 0, 0, 0], [1, 0, 0, 0, 0, 0], [1, 0, 0, 0, 0, 0], [1, 0, 0, 0, 0, 0], [0, 0, 0, 0, 0, 1]]\n"
    },
    {
     "ename": "ValueError",
     "evalue": "operands could not be broadcast together with shapes (136,) (136,6) ",
     "output_type": "error",
     "traceback": [
      "\u001b[0;31m---------------------------------------------------------------------------\u001b[0m",
      "\u001b[0;31mValueError\u001b[0m                                Traceback (most recent call last)",
      "\u001b[0;32m<ipython-input-7-2e5596865742>\u001b[0m in \u001b[0;36m<module>\u001b[0;34m\u001b[0m\n\u001b[1;32m      5\u001b[0m \u001b[0mglass_log\u001b[0m\u001b[0;34m=\u001b[0m \u001b[0mlogReg\u001b[0m\u001b[0;34m.\u001b[0m\u001b[0mLogistic_Regression\u001b[0m\u001b[0;34m(\u001b[0m\u001b[0;36m.6\u001b[0m\u001b[0;34m,\u001b[0m \u001b[0;34m\"glass\"\u001b[0m\u001b[0;34m,\u001b[0m \u001b[0;34m\"categorical\"\u001b[0m\u001b[0;34m)\u001b[0m\u001b[0;34m\u001b[0m\u001b[0;34m\u001b[0m\u001b[0m\n\u001b[1;32m      6\u001b[0m \u001b[0mprint\u001b[0m\u001b[0;34m(\u001b[0m\u001b[0mglass_log\u001b[0m\u001b[0;34m.\u001b[0m\u001b[0mname\u001b[0m\u001b[0;34m)\u001b[0m\u001b[0;34m\u001b[0m\u001b[0;34m\u001b[0m\u001b[0m\n\u001b[0;32m----> 7\u001b[0;31m \u001b[0mlog_results\u001b[0m\u001b[0;34m=\u001b[0m \u001b[0mglass_log\u001b[0m\u001b[0;34m.\u001b[0m\u001b[0mfit\u001b[0m\u001b[0;34m(\u001b[0m\u001b[0mtraining_data_glass\u001b[0m\u001b[0;34m,\u001b[0m \u001b[0mtraining_labels_glass\u001b[0m\u001b[0;34m,\u001b[0m \u001b[0mlearning_rate\u001b[0m\u001b[0;34m=\u001b[0m\u001b[0;36m1\u001b[0m\u001b[0;34m,\u001b[0m \u001b[0mterm\u001b[0m\u001b[0;34m=\u001b[0m\u001b[0;36m1\u001b[0m\u001b[0;34m)\u001b[0m\u001b[0;34m\u001b[0m\u001b[0;34m\u001b[0m\u001b[0m\n\u001b[0m\u001b[1;32m      8\u001b[0m \u001b[0mlog_test_results\u001b[0m\u001b[0;34m=\u001b[0m \u001b[0mglass_log\u001b[0m\u001b[0;34m.\u001b[0m\u001b[0mpredict\u001b[0m\u001b[0;34m(\u001b[0m\u001b[0mlog_results\u001b[0m\u001b[0;34m,\u001b[0m \u001b[0mxTest_glass\u001b[0m\u001b[0;34m)\u001b[0m\u001b[0;34m\u001b[0m\u001b[0;34m\u001b[0m\u001b[0m\n\u001b[1;32m      9\u001b[0m \u001b[0mprint\u001b[0m\u001b[0;34m(\u001b[0m\u001b[0mlog_results\u001b[0m\u001b[0;34m)\u001b[0m\u001b[0;34m\u001b[0m\u001b[0;34m\u001b[0m\u001b[0m\n",
      "\u001b[0;32m~/Documents/GitHub/COMP551A1/Models/logisticRegression.py\u001b[0m in \u001b[0;36mfit\u001b[0;34m(self, training_data, training_labels, learning_rate, term)\u001b[0m\n\u001b[1;32m     32\u001b[0m             \u001b[0;32melse\u001b[0m\u001b[0;34m:\u001b[0m\u001b[0;34m\u001b[0m\u001b[0;34m\u001b[0m\u001b[0m\n\u001b[1;32m     33\u001b[0m                 \u001b[0monehot_labels\u001b[0m \u001b[0;34m=\u001b[0m \u001b[0mself\u001b[0m\u001b[0;34m.\u001b[0m\u001b[0monehot\u001b[0m\u001b[0;34m(\u001b[0m\u001b[0mtraining_labels\u001b[0m\u001b[0;34m)\u001b[0m\u001b[0;34m\u001b[0m\u001b[0;34m\u001b[0m\u001b[0m\n\u001b[0;32m---> 34\u001b[0;31m                 \u001b[0mtemp\u001b[0m \u001b[0;34m=\u001b[0m \u001b[0mself\u001b[0m\u001b[0;34m.\u001b[0m\u001b[0mgradient\u001b[0m\u001b[0;34m(\u001b[0m\u001b[0mtraining_data\u001b[0m\u001b[0;34m,\u001b[0m \u001b[0monehot_labels\u001b[0m\u001b[0;34m,\u001b[0m \u001b[0mself\u001b[0m\u001b[0;34m.\u001b[0m\u001b[0mparams\u001b[0m\u001b[0;34m,\u001b[0m \u001b[0mself\u001b[0m\u001b[0;34m.\u001b[0m\u001b[0mregularization\u001b[0m\u001b[0;34m)\u001b[0m\u001b[0;34m\u001b[0m\u001b[0;34m\u001b[0m\u001b[0m\n\u001b[0m\u001b[1;32m     35\u001b[0m \u001b[0;34m\u001b[0m\u001b[0m\n\u001b[1;32m     36\u001b[0m             \u001b[0mself\u001b[0m\u001b[0;34m.\u001b[0m\u001b[0mparams\u001b[0m \u001b[0;34m=\u001b[0m \u001b[0mself\u001b[0m\u001b[0;34m.\u001b[0m\u001b[0mparams\u001b[0m \u001b[0;34m-\u001b[0m \u001b[0mlearning_rate\u001b[0m\u001b[0;34m*\u001b[0m\u001b[0mtemp\u001b[0m\u001b[0;34m\u001b[0m\u001b[0;34m\u001b[0m\u001b[0m\n",
      "\u001b[0;32m~/Documents/GitHub/COMP551A1/Models/logisticRegression.py\u001b[0m in \u001b[0;36mgradient\u001b[0;34m(self, design_matrix, labels, params, regularization)\u001b[0m\n\u001b[1;32m    109\u001b[0m         \u001b[0;31m# print(y_pred.shape)\u001b[0m\u001b[0;34m\u001b[0m\u001b[0;34m\u001b[0m\u001b[0;34m\u001b[0m\u001b[0m\n\u001b[1;32m    110\u001b[0m         \u001b[0;31m# print(y_pred)\u001b[0m\u001b[0;34m\u001b[0m\u001b[0;34m\u001b[0m\u001b[0;34m\u001b[0m\u001b[0m\n\u001b[0;32m--> 111\u001b[0;31m         \u001b[0mgrad\u001b[0m \u001b[0;34m=\u001b[0m \u001b[0mnp\u001b[0m\u001b[0;34m.\u001b[0m\u001b[0mdot\u001b[0m\u001b[0;34m(\u001b[0m\u001b[0mdesign_matrix\u001b[0m\u001b[0;34m.\u001b[0m\u001b[0mT\u001b[0m\u001b[0;34m,\u001b[0m \u001b[0my_pred\u001b[0m \u001b[0;34m-\u001b[0m \u001b[0mlabels\u001b[0m\u001b[0;34m)\u001b[0m\u001b[0;34m/\u001b[0m\u001b[0mN\u001b[0m\u001b[0;34m\u001b[0m\u001b[0;34m\u001b[0m\u001b[0m\n\u001b[0m\u001b[1;32m    112\u001b[0m         \u001b[0mgrad\u001b[0m\u001b[0;34m[\u001b[0m\u001b[0;36m1\u001b[0m\u001b[0;34m:\u001b[0m\u001b[0;34m]\u001b[0m \u001b[0;34m+=\u001b[0m \u001b[0mregularization\u001b[0m \u001b[0;34m*\u001b[0m \u001b[0mparams\u001b[0m\u001b[0;34m[\u001b[0m\u001b[0;36m1\u001b[0m\u001b[0;34m:\u001b[0m\u001b[0;34m]\u001b[0m \u001b[0;31m#L2 regularization\u001b[0m\u001b[0;34m\u001b[0m\u001b[0;34m\u001b[0m\u001b[0m\n\u001b[1;32m    113\u001b[0m         \u001b[0;31m# grad[1:] += regularization * np.sign(w[1:]) #L1 regularization\u001b[0m\u001b[0;34m\u001b[0m\u001b[0;34m\u001b[0m\u001b[0;34m\u001b[0m\u001b[0m\n",
      "\u001b[0;31mValueError\u001b[0m: operands could not be broadcast together with shapes (136,) (136,6) "
     ]
    }
   ],
   "source": [
    "import numpy as np\n",
    "import Models.logisticRegression as logReg \n",
    "#LOGISTIC REGRESSION\n",
    "print(\"LOGISTIC REGRESSION\")\n",
    "glass_log= logReg.Logistic_Regression(.6, \"glass\", \"categorical\")\n",
    "print(glass_log.name)\n",
    "log_results= glass_log.fit(training_data_glass, training_labels_glass, learning_rate=1, term=1)\n",
    "log_test_results= glass_log.predict(log_results, xTest_glass)\n",
    "print(log_results)\n",
    "print(log_results.shape)"
   ]
  },
  {
   "cell_type": "code",
   "execution_count": null,
   "metadata": {},
   "outputs": [],
   "source": []
  }
 ]
}