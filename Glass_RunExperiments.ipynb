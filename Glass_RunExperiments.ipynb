{
 "nbformat": 4,
 "nbformat_minor": 2,
 "metadata": {
  "language_info": {
   "name": "python",
   "codemirror_mode": {
    "name": "ipython",
    "version": 3
   },
   "version": "3.7.4-final"
  },
  "orig_nbformat": 2,
  "file_extension": ".py",
  "mimetype": "text/x-python",
  "name": "python",
  "npconvert_exporter": "python",
  "pygments_lexer": "ipython3",
  "version": 3,
  "kernelspec": {
   "name": "python37464bit6f19452678144e6e97437b4df42ffca5",
   "display_name": "Python 3.7.4 64-bit"
  }
 },
 "cells": [
  {
   "cell_type": "code",
   "execution_count": 19,
   "metadata": {},
   "outputs": [
    {
     "name": "stdout",
     "output_type": "stream",
     "text": "it works\n"
    }
   ],
   "source": [
    "import Data_Preprocessing.data_preprocess_glass as glass\n",
    "import numpy as np\n",
    "import scipy\n",
    "import nltk.classify.scikitlearn\n",
    "#design_matrix, labels= glass.preprocess()\n",
    "glass\n",
    "#preprocess the glass data\n",
    "print(\"it works\")\n"
   ]
  },
  {
   "cell_type": "code",
   "execution_count": 3,
   "metadata": {},
   "outputs": [
    {
     "name": "stdout",
     "output_type": "stream",
     "text": "glass\n"
    }
   ],
   "source": [
    "import Models.naive_bayes as bayes\n",
    "import numpy as np\n",
    "features_types= np.array([\"continuous\",\"continuous\",\"continuous\",\"continuous\",\"continuous\",\"continuous\",\"continuous\",\"continuous\",\"continuous\",\"continuous\"])\n",
    "glass_bayes= bayes.Naive_Bayes(\"glass\", features_types)\n",
    "print(glass_bayes.name)"
   ]
  },
  {
   "cell_type": "code",
   "execution_count": null,
   "metadata": {},
   "outputs": [],
   "source": []
  }
 ]
}