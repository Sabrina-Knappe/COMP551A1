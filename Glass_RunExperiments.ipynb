{
 "nbformat": 4,
 "nbformat_minor": 2,
 "metadata": {
  "language_info": {
   "name": "python",
   "codemirror_mode": {
    "name": "ipython",
    "version": 3
   },
   "version": "3.7.4-final"
  },
  "orig_nbformat": 2,
  "file_extension": ".py",
  "mimetype": "text/x-python",
  "name": "python",
  "npconvert_exporter": "python",
  "pygments_lexer": "ipython3",
  "version": 3,
  "kernelspec": {
   "name": "python37464bit6f19452678144e6e97437b4df42ffca5",
   "display_name": "Python 3.7.4 64-bit"
  }
 },
 "cells": [
  {
   "cell_type": "code",
   "execution_count": 1,
   "metadata": {},
   "outputs": [
    {
     "ename": "SyntaxError",
     "evalue": "'return' outside function (data_preprocess_glass.py, line 17)",
     "output_type": "error",
     "traceback": [
      "Traceback \u001b[0;36m(most recent call last)\u001b[0m:\n",
      "  File \u001b[1;32m\"/Users/SabrinaKnappe/Library/Python/3.7/lib/python/site-packages/IPython/core/interactiveshell.py\"\u001b[0m, line \u001b[1;32m3326\u001b[0m, in \u001b[1;35mrun_code\u001b[0m\n    exec(code_obj, self.user_global_ns, self.user_ns)\n",
      "\u001b[0;36m  File \u001b[0;32m\"<ipython-input-1-407094469164>\"\u001b[0;36m, line \u001b[0;32m1\u001b[0;36m, in \u001b[0;35m<module>\u001b[0;36m\u001b[0m\n\u001b[0;31m    import Data_Preprocessing.data_preprocess_glass as glass\u001b[0m\n",
      "\u001b[0;36m  File \u001b[0;32m\"/Users/SabrinaKnappe/Documents/GitHub/COMP551A1/Data_Preprocessing/data_preprocess_glass.py\"\u001b[0;36m, line \u001b[0;32m17\u001b[0m\n\u001b[0;31m    return glass_design_matrix, glass_labels\u001b[0m\n\u001b[0m                                            ^\u001b[0m\n\u001b[0;31mSyntaxError\u001b[0m\u001b[0;31m:\u001b[0m 'return' outside function\n"
     ]
    }
   ],
   "source": [
    "import Data_Preprocessing.data_preprocess_glass as glass\n",
    "import numpy as np\n",
    "import scipy\n",
    "import nltk.classify.scikitlearn\n",
    "#design_matrix, labels= glass.preprocess()\n",
    "glass\n",
    "#preprocess the glass data\n",
    "print(\"it works\")\n"
   ]
  },
  {
   "cell_type": "code",
   "execution_count": 3,
   "metadata": {},
   "outputs": [
    {
     "name": "stdout",
     "output_type": "stream",
     "text": "glass\n"
    }
   ],
   "source": [
    "import Models.naive_bayes as bayes\n",
    "import numpy as np\n",
    "features_types= np.array([\"continuous\",\"continuous\",\"continuous\",\"continuous\",\"continuous\",\"continuous\",\"continuous\",\"continuous\",\"continuous\",\"continuous\"])\n",
    "glass_bayes= bayes.Naive_Bayes(\"glass\", features_types)\n",
    "print(glass_bayes.name)"
   ]
  },
  {
   "cell_type": "code",
   "execution_count": null,
   "metadata": {},
   "outputs": [],
   "source": []
  }
 ]
}