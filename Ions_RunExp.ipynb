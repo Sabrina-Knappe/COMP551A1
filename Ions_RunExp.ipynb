{
 "nbformat": 4,
 "nbformat_minor": 2,
 "metadata": {
  "language_info": {
   "name": "python",
   "codemirror_mode": {
    "name": "ipython",
    "version": 3
   },
   "version": "3.7.4-final"
  },
  "orig_nbformat": 2,
  "file_extension": ".py",
  "mimetype": "text/x-python",
  "name": "python",
  "npconvert_exporter": "python",
  "pygments_lexer": "ipython3",
  "version": 3,
  "kernelspec": {
   "name": "python37464bit6f19452678144e6e97437b4df42ffca5",
   "display_name": "Python 3.7.4 64-bit"
  }
 },
 "cells": [
  {
   "cell_type": "code",
   "execution_count": 9,
   "metadata": {},
   "outputs": [
    {
     "name": "stdout",
     "output_type": "stream",
     "text": "1  0  0.99539  -0.05889  0.85243  0.02306  0.83398  -0.37708      1.1  \\\n0    1  0  1.00000  -0.18829  0.93035 -0.36156 -0.10868  -0.93597  1.00000   \n1    1  0  1.00000  -0.03365  1.00000  0.00485  1.00000  -0.12062  0.88965   \n2    1  0  1.00000  -0.45161  1.00000  1.00000  0.71216  -1.00000  0.00000   \n3    1  0  1.00000  -0.02401  0.94140  0.06531  0.92106  -0.23255  0.77152   \n4    1  0  0.02337  -0.00592 -0.09924 -0.11949 -0.00763  -0.11824  0.14706   \n..  .. ..      ...       ...      ...      ...      ...       ...      ...   \n345  1  0  0.83508   0.08298  0.73739 -0.14706  0.84349  -0.05567  0.90441   \n346  1  0  0.95113   0.00419  0.95183 -0.02723  0.93438  -0.01920  0.94590   \n347  1  0  0.94701  -0.00034  0.93207 -0.03227  0.95177  -0.03431  0.95584   \n348  1  0  0.90608  -0.01657  0.98122 -0.01989  0.95691  -0.03646  0.85746   \n349  1  0  0.84710   0.13533  0.73638 -0.06151  0.87873   0.08260  0.88928   \n\n     0.03760  ...  -0.51171  0.41078  -0.46168  0.21266  -0.34090  0.42267  \\\n0   -0.04549  ...  -0.26569 -0.20468  -0.18401 -0.19040  -0.11593 -0.16626   \n1    0.01198  ...  -0.40220  0.58984  -0.22145  0.43100  -0.17365  0.60436   \n2    0.00000  ...   0.90695  0.51613   1.00000  1.00000  -0.20099  0.25682   \n3   -0.16399  ...  -0.65158  0.13290  -0.53206  0.02431  -0.62197 -0.05707   \n4    0.06637  ...  -0.01535 -0.03240   0.09223 -0.07859   0.00732  0.00000   \n..       ...  ...       ...      ...       ...      ...       ...      ...   \n345 -0.04622  ...  -0.04202  0.83479   0.00123  1.00000   0.12815  0.86660   \n346  0.01606  ...   0.01361  0.93522   0.04925  0.93159   0.08168  0.94066   \n347  0.02446  ...   0.03193  0.92489   0.02542  0.92120   0.02242  0.92459   \n348  0.00110  ...  -0.02099  0.89147  -0.07760  0.82983  -0.17238  0.96022   \n349 -0.09139  ...  -0.15114  0.81147  -0.04822  0.78207  -0.00703  0.75747   \n\n     -0.54487  0.18641  -0.45300  g  \n0    -0.06288 -0.13738  -0.02447  b  \n1    -0.24180  0.56045  -0.38238  g  \n2     1.00000 -0.32382   1.00000  b  \n3    -0.59573 -0.04608  -0.65697  g  \n4     0.00000 -0.00039   0.12011  b  \n..        ...      ...       ... ..  \n345  -0.10714  0.90546  -0.04307  g  \n346  -0.00035  0.91483   0.04712  g  \n347   0.00442  0.92697  -0.00577  g  \n348  -0.03757  0.87403  -0.16243  g  \n349  -0.06678  0.85764  -0.06151  g  \n\n[350 rows x 35 columns]\n"
    }
   ],
   "source": [
    "# Import package\n",
    "from urllib.request import urlretrieve\n",
    "\n",
    "# Import pandas\n",
    "import pandas as pd\n",
    "\n",
    "# Assign url of file: url\n",
    "url = 'https://archive.ics.uci.edu/ml/machine-learning-databases/ionosphere/ionosphere.data'\n",
    "\n",
    "# Save file locally\n",
    "urlretrieve(url, 'ionosphere-data.csv')\n",
    "\n",
    "# Read file into a DataFrame and print its head\n",
    "df = pd.read_csv('ionosphere-data.csv', sep=',')\n",
    "print(df)"
   ]
  },
  {
   "cell_type": "code",
   "execution_count": 10,
   "metadata": {},
   "outputs": [
    {
     "name": "stdout",
     "output_type": "stream",
     "text": "['b' 'g' 'b' 'g' 'b' 'g' 'b' 'g' 'b' 'g' 'b' 'g' 'b' 'g' 'b' 'g' 'b' 'g'\n 'b' 'g' 'b' 'g' 'b' 'g' 'b' 'g' 'b' 'g' 'b' 'g' 'b' 'g' 'b' 'g' 'b' 'g'\n 'b' 'g' 'b' 'g' 'b' 'g' 'b' 'g' 'b' 'g' 'b' 'g' 'b' 'g' 'b' 'g' 'b' 'g'\n 'b' 'g' 'b' 'g' 'b' 'g' 'b' 'g' 'b' 'g' 'b' 'g' 'b' 'g' 'b' 'g' 'b' 'g'\n 'b' 'g' 'b' 'g' 'b' 'g' 'b' 'g' 'b' 'g' 'b' 'g' 'b' 'g' 'b' 'g' 'b' 'g'\n 'b' 'g' 'b' 'g' 'b' 'g' 'g' 'b' 'g' 'b' 'g' 'b' 'g' 'b' 'g' 'b' 'g' 'b'\n 'g' 'b' 'g' 'b' 'g' 'b' 'g' 'b' 'g' 'b' 'g' 'b' 'g' 'b' 'g' 'b' 'g' 'b'\n 'g' 'b' 'g' 'b' 'g' 'b' 'g' 'b' 'g' 'b' 'g' 'b' 'g' 'b' 'g' 'b' 'g' 'b'\n 'g' 'b' 'g' 'b' 'g' 'b' 'g' 'b' 'g' 'b' 'g' 'b' 'g' 'b' 'g' 'b' 'g' 'b'\n 'g' 'b' 'g' 'b' 'g' 'b' 'g' 'b' 'g' 'b' 'g' 'b' 'g' 'b' 'g' 'b' 'g' 'b'\n 'g' 'b' 'g' 'b' 'g' 'b' 'g' 'b' 'g' 'b' 'g' 'b' 'g' 'b' 'g' 'b' 'g' 'b'\n 'g' 'b' 'g' 'b' 'g' 'b' 'g' 'b' 'g' 'b' 'g' 'b' 'g' 'b' 'g' 'b' 'g' 'b'\n 'g' 'b' 'g' 'b' 'g' 'b' 'g' 'b' 'g' 'b' 'g' 'b' 'g' 'b' 'g' 'b' 'g' 'b'\n 'g' 'b' 'g' 'b' 'g' 'b' 'g' 'b' 'g' 'b' 'g' 'b' 'g' 'b' 'g' 'b' 'g' 'b'\n 'g' 'g' 'g' 'g' 'g' 'g' 'g' 'g' 'g' 'g' 'g' 'g' 'g' 'g' 'g' 'g' 'g' 'g'\n 'g' 'g' 'g' 'g' 'g' 'g' 'g' 'g' 'g' 'g' 'g' 'g' 'g' 'g' 'g' 'g' 'g' 'g'\n 'g' 'g' 'g' 'g' 'g' 'g' 'g' 'g' 'g' 'g' 'g' 'g' 'g' 'g' 'g' 'g' 'g' 'g'\n 'g' 'g' 'g' 'g' 'g' 'g' 'g' 'g' 'g' 'g' 'g' 'g' 'g' 'g' 'g' 'g' 'g' 'g'\n 'g' 'g' 'g' 'g' 'g' 'g' 'g' 'g' 'g' 'g' 'g' 'g' 'g' 'g' 'g' 'g' 'g' 'g'\n 'g' 'g' 'g' 'g' 'g' 'g' 'g' 'g']\n"
    }
   ],
   "source": [
    "# Import numpy\n",
    "import numpy as np\n",
    "\n",
    "# Convert to numpy\n",
    "#df.to_numpy()\n",
    "temp = df.values\n",
    "R,C = temp.shape\n",
    "#print(C)\n",
    "\n",
    "# Split array into design matrix and labels\n",
    "ionosphere_labels = temp[:, C-1]\n",
    "print(ionosphere_labels)\n",
    "\n"
   ]
  },
  {
   "cell_type": "code",
   "execution_count": 11,
   "metadata": {},
   "outputs": [
    {
     "name": "stdout",
     "output_type": "stream",
     "text": "[[1 0 1.0 ... -0.06287999999999999 -0.13738 -0.02447]\n [1 0 1.0 ... -0.2418 0.56045 -0.38238]\n [1 0 1.0 ... 1.0 -0.32382 1.0]\n ...\n [1 0 0.94701 ... 0.00442 0.9269700000000001 -0.00577]\n [1 0 0.9060799999999999 ... -0.03757 0.87403 -0.16243]\n [1 0 0.8471 ... -0.06677999999999999 0.85764 -0.06151]]\n"
    }
   ],
   "source": [
    "import numpy as np\n",
    "# Remove labels to get design matrix\n",
    "ionosphere_design_matrix= np.delete(temp, C-1, 1)\n",
    "print(ionosphere_design_matrix)\n",
    "\n"
   ]
  },
  {
   "cell_type": "code",
   "execution_count": 12,
   "metadata": {},
   "outputs": [],
   "source": [
    "import Models.kfold_CV_try as cv\n",
    "\n",
    "# Train test split\n",
    "xTrain_ion, xTest_ion, yTrain_ion, yTest_ion = cv.split_train_test(ionosphere_design_matrix, ionosphere_labels, 0.2)\n",
    "# print(xTest_ion); print(xTrain_ion); print(yTest_ion);print(yTrain_ion)\n"
   ]
  },
  {
   "cell_type": "code",
   "execution_count": 13,
   "metadata": {},
   "outputs": [
    {
     "name": "stdout",
     "output_type": "stream",
     "text": "[[1 0 0.85736 ... -0.01942 0.79089 -0.09186]\n [1 0 0.7408399999999999 ... 0.14697000000000002 0.57455 0.15114]\n [1 0 0.6381600000000001 ... -1.0 1.0 1.0]\n ...\n [1 0 0.5 ... 0.14783 0.44783 0.17390999999999998]\n [1 0 0.62745 ... -0.21569000000000002 0.47058999999999995 -0.27451]\n [1 0 0.8628399999999999 ... -0.19923 -0.42912 -0.31954]] ['g' 'g' 'b' 'g' 'b' 'b' 'g' 'g' 'g' 'g' 'b' 'g' 'g' 'b' 'g' 'g' 'g' 'g'\n 'b' 'g' 'b' 'g' 'g' 'b' 'g' 'g' 'b' 'g' 'g' 'g' 'g' 'g' 'g' 'g' 'b' 'b'\n 'b' 'b' 'g' 'g' 'b' 'g' 'g' 'g' 'g' 'b' 'g' 'g' 'g' 'g' 'b' 'b' 'g' 'g'\n 'b' 'g']\n(56, 34) (56,)\n"
    }
   ],
   "source": [
    "folds = 5 # delete folds later when embedded in function input\n",
    "# cv_train_data_ion is xTrain_ion split into five chunks\n",
    "dataset_split_in, cv_train_data_ion,cv_train_label_ion= cv.kfold_cross_validation(xTrain_ion,yTrain_ion,folds)\n",
    "# print(cv_train_data_ion,cv_train_label_ion)\n",
    "\n",
    "# the last input for cv.train_validation_split is the number of experiments you are running currently, 5 in total. \n",
    "# each experiments is organizing the five chunks from cv_train_data_ion into 4 chunks for training_data_ion and 1 chunk for validate_data_ion for cross validation, just need to uncomment the line you want to experiment currently. \n",
    "\n",
    "#exp1: \n",
    "validate_data_ion,validate_labels_ion,training_data_ion,training_labels_ion = cv.train_validation_split(cv_train_data_ion,cv_train_label_ion,1)\n",
    "\n",
    "#exp2:\n",
    "#validate_data_ion,validate_labels_ion,training_data_ion,training_labels_ion = cv.train_validation_split(cv_train_data_ion,cv_train_label_ion,2)\n",
    "\n",
    "#exp3:\n",
    "#validate_data_ion,validate_labels_ion,training_data_ion,training_labels_ion = cv.train_validation_split(cv_train_data_ion,cv_train_label_ion,3)\n",
    "\n",
    "#exp4:\n",
    "#validate_data_ion,validate_labels_ion,training_data_ion,training_labels_ion = cv.train_validation_split(cv_train_data_ion,cv_train_label_ion,4)\n",
    "\n",
    "#exp5: \n",
    "#validate_data_ion,validate_labels_ion,training_data_ion,training_labels_ion = cv.train_validation_split(cv_train_data_ion,cv_train_label_ion,5)\n",
    "print(validate_data_ion,validate_labels_ion)\n",
    "print(validate_data_ion.shape,validate_labels_ion.shape)"
   ]
  },
  {
   "cell_type": "code",
   "execution_count": 14,
   "metadata": {},
   "outputs": [
    {
     "name": "stdout",
     "output_type": "stream",
     "text": "Now fitting Ionosphere\n0.5540439593553605\n0.5398644961856559\n0.5261578395909225\n0.5129160180410959\n0.5001299624111436\n0.48778970231618707\n0.4758845434944191\n0.4644032266824028\n0.45333406874225207\n0.4426650870226298\n0.43238410808091665\n0.42247886197669465\n0.41293706337986374\n0.40374648073166425\n0.3948949946632846\n0.38637064682278305\n0.3781616801932988\n0.3702565719093426\n0.36264405949744327\n0.3553131613857998\n0.34825319244717284\n0.341453775261756\n0.3349048477133374\n0.3285966674634302\n0.3225198137846259\n0.3166651871763485\n0.31102400713345174\n0.3055878083905392\n0.30034843592224625\n0.2952980389417163\n0.2904290641057729\n0.28573424810550757\n0.28120660979479023\n0.27683944198624616\n0.2726263030241877\n0.26856100822653095\n0.2646376212725896\n0.2608504456005446\n0.2571940158671047\n0.25366308951217953\n0.2502526384630876\n0.24695784100573528\n0.2437740738441848\n0.24069690436492264\n0.23772208311784168\n0.23484553652233264\n0.23206335980386375\n0.2293718101639179\n0.22676730018408559\n0.22424639146341707\n0.22180578848675722\n0.2194423327206818\n0.2171529969327765\n0.21493487972931466\n0.21278520030587064\n0.21070129340502136\n0.20868060447501693\n0.2067206850231221\n0.2048191881572372\n0.2029738643093645\n0.20118255713450692\n0.19944319957864226\n0.19775381010950344\n0.19611248910401916\n0.19451741538639672\n0.1929668429109883\n0.19145909758423926\n0.18999257422018945\n0.18856573362417337\n0.18717709979954011\n0.18582525727239557\n0.18450884852954258\n0.18322657156497396\n0.1819771775304423\n0.18075946848580218\n0.179572295244983\n0.17841455531361353\n0.17728519091447273\n0.17618318709709493\n0.17510756992800033\n0.1740574047581669\n0.17303179456449178\n0.17202987836212513\n0.1710508296846838\n0.17009385512947386\n0.16915819296497003\n0.16824311179791052\n0.16734790929747564\n0.1664719109741229\n0.16561446901074905\n0.16477496114395002\n0.1639527895932373\n0.16314738003616264\n0.16235818062738347\n0.16158466105978928\n0.16082631166588113\n0.16008264255767835\n0.15935318280349384\n0.15863747963999306\n0.15793509771801578\n0.15724561838070517\n0.1565686389725503\n0.1559037721780072\n0.15525064538841965\n0.15460890009601652\n0.15397819131381343\n0.15335818702029735\n0.152748567627821\n0.15214902547367865\n0.15155926433288058\n0.1509789989516851\n0.1504079546009874\n0.14984586664870406\n0.14929248015032842\n0.14874754945686838\n0.1482108378394131\n0.14768211712960524\n0.1471611673753299\n0.14664777651095995\n0.14614174004152614\n0.1456428607402072\n0.14515094835856454\n0.14466581934896783\n0.14418729659868323\n0.1437152091751208\n0.1432493920817566\n0.14278968602426922\n0.14233593718644813\n0.14188799701545332\n0.14144572201602057\n0.14100897355322953\n0.1405776176634626\n0.1401515248732043\n0.13973057002534284\n0.13931463211265188\n0.1389035941181444\n0.1384973428620036\n0.1380957688548097\n0.13769876615679227\n0.1373062322428523\n0.13691806787310556\n0.13653417696871348\n0.13615446649277588\n0.1357788463360697\n0.13540722920742893\n0.1350395305285678\n0.1346756683331599\n0.13431556316999227\n0.13395913801002307\n0.13360631815717788\n0.13325703116272644\n0.13291120674309065\n0.13256877670093803\n0.1322296748494239\n0.13189383693945034\n0.1315612005898149\n0.13123170522012956\n0.13090529198639334\n0.1305819037191089\n0.13026148486383707\n0.12994398142408772\n0.12962934090645103\n0.12931751226787574\n0.12900844586500596\n0.1287020934054916\n0.1283984079011914\n0.1280973436231904\n0.12779885605855737\n0.12750290186877156\n0.12720943884974975\n0.1269184258934085\n0.1266298229506989\n0.1263435909960547\n0.1260596919931951\n0.1257780888622281\n0.1254987454480015\n0.12522162648965152\n0.12494669759129987\n0.12467392519385384\n0.12440327654786472\n0.12413471968740172\n0.12386822340490167\n0.12360375722695446\n0.12334129139098714\n0.12308079682281114\n0.12282224511499834\n0.1225656085060527\n0.12231085986034514\n0.12205797264878432\n0.1218069209301904\n0.12155767933334692\n0.12131022303970299\n0.12106452776670046\n0.12082056975170119\n0.12057832573649181\n0.12033777295234227\n0.12009888910559777\n0.11986165236378207\n0.11962604134219365\n0.1193920350909744\n0.11915961308263322\n0.11892875520000724\n0.1186994417246427\n0.11847165332558059\n0.11824537104853088\n0.1180205763054202\n0.1177972508642995\n0.11757537683959732\n0.11735493668270537\n0.1171359131728848\n0.11691828940847954\n0.1167020487984268\n0.11648717505405133\n0.1162736521811355\n0.11606146447225216\n0.11585059649935213\n0.1156410331065964\n0.1154327594034235\n0.11522576075784369\n0.11502002278995155\n0.11481553136564875\n0.11461227259056891\n0.11441023280419806\n0.11420939857418212\n0.11400975669081616\n0.11381129416170717\n0.11361399820660502\n0.11341785625239563\n0.11322285592824942\n0.1130289850609204\n0.11283623167019023\n0.11264458396445182\n0.1124540303364271\n0.11226455935901564\n0.11207615978126736\n0.11188882052447688\n0.11170253067839335\n0.11151727949754363\n0.11133305639766303\n0.11114985095223098\n0.11096765288910754\n0.11078645208726733\n0.11060623857362702\n0.11042700251996415\n0.11024873423992312\n0.11007142418610587\n0.10989506294724409\n0.10971964124545043\n0.10954514993354585\n0.10937157999246042\n0.10919892252870553\n0.10902716877191423\n0.10885631007244867\n0.10868633789907085\n0.10851724383667648\n0.10834901958408764\n0.10818165695190438\n0.10801514786041158\n0.10784948433754088\n0.10768465851688436\n0.10752066263575928\n0.10735748903332214\n0.10719513014872971\n0.10703357851934672\n0.10687282677899752\n0.10671286765626133\n0.10655369397280884\n0.1063952986417796\n0.10623767466619827\n0.10608081513742923\n0.10592471323366733\n0.10576936221846514\n0.10561475543929388\n0.10546088632613848\n0.10530774839012469\n0.10515533522217796\n0.10500364049171285\n0.1048526579453517\n0.10470238140567266\n0.10455280476998488\n0.10440392200913161\n0.10425572716631887\n0.10410821435596995\n0.10396137776260463\n0.10381521163974261\n0.10366971030883015\n0.10352486815818938\n0.10338067964198988\n0.10323713927924151\n0.10309424165280827\n0.10295198140844236\n0.10281035325383787\n0.10266935195770378\n0.10252897234885554\n0.10238920931532476\n0.10225005780348681\n0.10211151281720507\n0.10197356941699266\n0.10183622271918974\n0.10169946789515709\n0.10156330017048516\n0.10142771482421785\n0.10129270718809134\n0.10115827264578695\n0.1010244066321979\n0.10089110463271006\n0.10075836218249536\n0.10062617486581837\n0.10049453831535587\n0.10036344821152791\n0.10023290028184142\n0.10010289030024541\n0.09997341408649753\n"
    }
   ],
   "source": [
    "import Models.logisticRegression as lr\n",
    "\n",
    "ionslr1 = lr.Logistic_Regression(0.02,\"Ionosphere\",\"binary\") # input step size\n",
    "# params = ionslr1.fit(cv_train_data, cv_train_label, 0.02, 1e-1)\n",
    "params1 = ionslr1.fit(training_data_ion,training_labels_ion,0.02,1e-1)\n",
    "#adding a separate comment\n",
    "# input learning rate and termination conditions"
   ]
  },
  {
   "cell_type": "code",
   "execution_count": 15,
   "metadata": {},
   "outputs": [
    {
     "name": "stdout",
     "output_type": "stream",
     "text": "[ True  True  True  True  True  True  True  True  True  True False  True\n  True False  True  True  True  True  True  True  True  True  True False\n  True  True  True  True  True  True  True  True  True  True False False\n  True  True  True  True  True  True  True  True  True False  True  True\n  True  True  True False  True  True  True  True]\n"
    }
   ],
   "source": [
    "# Making LR prediction on the validatoin set\n",
    "#print(validate_data_ion,validate_labels_ion)\n",
    "#predictions1 = ionslr1.predict(ionslr1,params1,validate_data_ion)\n",
    "\n",
    "predictions1 = ionslr1.predict(params1,validate_data_ion)\n",
    "print(predictions1)"
   ]
  },
  {
   "cell_type": "code",
   "execution_count": 16,
   "metadata": {},
   "outputs": [
    {
     "name": "stdout",
     "output_type": "stream",
     "text": "Now fitting ionosphere\n[1, 1, 1, 0, 1, 0, 0, 0, 1, 1, 0, 1, 0, 1, 1, 1, 0, 0, 0, 0, 1, 1, 1, 1, 0, 1, 1, 0, 1, 1, 0, 1, 1, 1, 1, 1, 1, 1, 0, 1, 1, 0, 1, 0, 0, 1, 1, 0, 1, 1, 1, 1, 1, 1, 0, 1, 1, 1, 1, 1, 1, 1, 1, 1, 1, 0, 0, 1, 0, 0, 1, 0, 0, 1, 0, 1, 0, 0, 1, 0, 0, 0, 1, 1, 0, 0, 1, 1, 0, 1, 1, 1, 0, 1, 1, 0, 1, 1, 1, 1, 0, 1, 0, 0, 0, 1, 1, 0, 0, 0, 0, 1, 1, 1, 0, 1, 0, 1, 0, 1, 1, 1, 1, 1, 0, 0, 1, 0, 1, 1, 1, 1, 1, 0, 1, 1, 1, 1, 1, 0, 1, 1, 1, 1, 1, 1, 0, 0, 0, 0, 1, 1, 1, 1, 1, 1, 0, 0, 1, 1, 1, 1, 1, 1, 1, 1, 0, 1, 1, 1, 1, 0, 1, 0, 1, 1, 1, 1, 0, 1, 0, 0, 0, 0, 0, 0, 0, 1, 1, 1, 1, 1, 1, 1, 1, 0, 1, 1, 0, 0, 1, 0, 0, 0, 1, 1, 1, 1, 0, 1, 1, 1, 0, 1, 0, 0, 1, 1, 0, 0, 1, 0, 1, 1]\n(224, 2)\n(224, 34)\n(224, 34)\n(224, 2)\n(2, 34)\n(2, 34)\nlog prior\n[[-1.0049268 ]\n [-0.45581899]]\n"
    },
    {
     "ename": "IndexError",
     "evalue": "too many indices for array",
     "output_type": "error",
     "traceback": [
      "\u001b[0;31m---------------------------------------------------------------------------\u001b[0m",
      "\u001b[0;31mIndexError\u001b[0m                                Traceback (most recent call last)",
      "\u001b[0;32m<ipython-input-16-bcd14dc3a8a3>\u001b[0m in \u001b[0;36m<module>\u001b[0;34m\u001b[0m\n\u001b[1;32m      5\u001b[0m \u001b[0mfeature_types\u001b[0m\u001b[0;34m=\u001b[0m \u001b[0mnp\u001b[0m\u001b[0;34m.\u001b[0m\u001b[0marray\u001b[0m\u001b[0;34m(\u001b[0m\u001b[0;34m[\u001b[0m\u001b[0;34m\"continuous\"\u001b[0m\u001b[0;34m,\u001b[0m\u001b[0;34m\"continuous\"\u001b[0m\u001b[0;34m,\u001b[0m\u001b[0;34m\"continuous\"\u001b[0m\u001b[0;34m,\u001b[0m\u001b[0;34m\"continuous\"\u001b[0m\u001b[0;34m,\u001b[0m\u001b[0;34m\"continuous\"\u001b[0m\u001b[0;34m,\u001b[0m\u001b[0;34m\"continuous\"\u001b[0m\u001b[0;34m,\u001b[0m\u001b[0;34m\"continuous\"\u001b[0m\u001b[0;34m,\u001b[0m\u001b[0;34m\"continuous\"\u001b[0m\u001b[0;34m,\u001b[0m\u001b[0;34m\"continuous\"\u001b[0m\u001b[0;34m,\u001b[0m\u001b[0;34m\"continuous\"\u001b[0m\u001b[0;34m,\u001b[0m\u001b[0;34m\"continuous\"\u001b[0m\u001b[0;34m,\u001b[0m\u001b[0;34m\"continuous\"\u001b[0m\u001b[0;34m,\u001b[0m\u001b[0;34m\"continuous\"\u001b[0m\u001b[0;34m,\u001b[0m\u001b[0;34m\"continuous\"\u001b[0m\u001b[0;34m,\u001b[0m\u001b[0;34m\"continuous\"\u001b[0m\u001b[0;34m,\u001b[0m\u001b[0;34m\"continuous\"\u001b[0m\u001b[0;34m,\u001b[0m\u001b[0;34m\"continuous\"\u001b[0m\u001b[0;34m,\u001b[0m\u001b[0;34m\"continuous\"\u001b[0m\u001b[0;34m,\u001b[0m\u001b[0;34m\"continuous\"\u001b[0m\u001b[0;34m,\u001b[0m\u001b[0;34m\"continuous\"\u001b[0m\u001b[0;34m,\u001b[0m\u001b[0;34m\"continuous\"\u001b[0m\u001b[0;34m,\u001b[0m\u001b[0;34m\"continuous\"\u001b[0m\u001b[0;34m,\u001b[0m\u001b[0;34m\"continuous\"\u001b[0m\u001b[0;34m,\u001b[0m\u001b[0;34m\"continuous\"\u001b[0m\u001b[0;34m,\u001b[0m\u001b[0;34m\"continuous\"\u001b[0m\u001b[0;34m,\u001b[0m\u001b[0;34m\"continuous\"\u001b[0m\u001b[0;34m,\u001b[0m\u001b[0;34m\"continuous\"\u001b[0m\u001b[0;34m,\u001b[0m\u001b[0;34m\"continuous\"\u001b[0m\u001b[0;34m,\u001b[0m\u001b[0;34m\"continuous\"\u001b[0m\u001b[0;34m,\u001b[0m\u001b[0;34m\"continuous\"\u001b[0m\u001b[0;34m,\u001b[0m\u001b[0;34m\"continuous\"\u001b[0m\u001b[0;34m,\u001b[0m\u001b[0;34m\"continuous\"\u001b[0m\u001b[0;34m,\u001b[0m\u001b[0;34m\"continuous\"\u001b[0m\u001b[0;34m,\u001b[0m\u001b[0;34m\"continuous\"\u001b[0m\u001b[0;34m]\u001b[0m\u001b[0;34m)\u001b[0m\u001b[0;34m\u001b[0m\u001b[0;34m\u001b[0m\u001b[0m\n\u001b[1;32m      6\u001b[0m \u001b[0mionnb\u001b[0m\u001b[0;34m=\u001b[0m \u001b[0mnb\u001b[0m\u001b[0;34m.\u001b[0m\u001b[0mNaive_Bayes\u001b[0m\u001b[0;34m(\u001b[0m\u001b[0;34m\"ionosphere\"\u001b[0m\u001b[0;34m,\u001b[0m \u001b[0;34m\"binary\"\u001b[0m\u001b[0;34m,\u001b[0m \u001b[0mfeature_types\u001b[0m\u001b[0;34m)\u001b[0m\u001b[0;34m\u001b[0m\u001b[0;34m\u001b[0m\u001b[0m\n\u001b[0;32m----> 7\u001b[0;31m \u001b[0mparameters\u001b[0m\u001b[0;34m=\u001b[0m \u001b[0mionnb\u001b[0m\u001b[0;34m.\u001b[0m\u001b[0mfit\u001b[0m\u001b[0;34m(\u001b[0m\u001b[0mtraining_data_ion\u001b[0m\u001b[0;34m,\u001b[0m \u001b[0mtraining_labels_ion\u001b[0m\u001b[0;34m,\u001b[0m \u001b[0mvalidate_labels_ion\u001b[0m\u001b[0;34m)\u001b[0m\u001b[0;34m\u001b[0m\u001b[0;34m\u001b[0m\u001b[0m\n\u001b[0m\u001b[1;32m      8\u001b[0m \u001b[0mresults\u001b[0m\u001b[0;34m=\u001b[0m \u001b[0mionnb\u001b[0m\u001b[0;34m.\u001b[0m\u001b[0mpredict\u001b[0m\u001b[0;34m(\u001b[0m\u001b[0mxTest_ion\u001b[0m\u001b[0;34m,\u001b[0m \u001b[0mparameters\u001b[0m\u001b[0;34m)\u001b[0m\u001b[0;34m\u001b[0m\u001b[0;34m\u001b[0m\u001b[0m\n",
      "\u001b[0;32m~/Documents/GitHub/COMP551A1/Models/naive_bayes_v2.py\u001b[0m in \u001b[0;36mfit\u001b[0;34m(self, training_data, training_labels, test_data)\u001b[0m\n\u001b[1;32m     76\u001b[0m             \u001b[0;31m# print(\"hit\")\u001b[0m\u001b[0;34m\u001b[0m\u001b[0;34m\u001b[0m\u001b[0;34m\u001b[0m\u001b[0m\n\u001b[1;32m     77\u001b[0m             \u001b[0;31m# print(continuous.shape)\u001b[0m\u001b[0;34m\u001b[0m\u001b[0;34m\u001b[0m\u001b[0;34m\u001b[0m\u001b[0m\n\u001b[0;32m---> 78\u001b[0;31m             \u001b[0mcontinuous_model\u001b[0m\u001b[0;34m=\u001b[0m \u001b[0mself\u001b[0m\u001b[0;34m.\u001b[0m\u001b[0mcontinuous\u001b[0m\u001b[0;34m(\u001b[0m\u001b[0mcontinuous\u001b[0m\u001b[0;34m,\u001b[0m \u001b[0mhot_labels\u001b[0m\u001b[0;34m,\u001b[0m \u001b[0mtest_data\u001b[0m\u001b[0;34m)\u001b[0m\u001b[0;34m\u001b[0m\u001b[0;34m\u001b[0m\u001b[0m\n\u001b[0m\u001b[1;32m     79\u001b[0m \u001b[0;34m\u001b[0m\u001b[0m\n\u001b[1;32m     80\u001b[0m         \u001b[0mprint\u001b[0m\u001b[0;34m(\u001b[0m\u001b[0mbinary_model\u001b[0m\u001b[0;34m.\u001b[0m\u001b[0mshape\u001b[0m\u001b[0;34m)\u001b[0m\u001b[0;34m\u001b[0m\u001b[0;34m\u001b[0m\u001b[0m\n",
      "\u001b[0;32m~/Documents/GitHub/COMP551A1/Models/naive_bayes_v2.py\u001b[0m in \u001b[0;36mcontinuous\u001b[0;34m(self, training_data, training_labels, test_data)\u001b[0m\n\u001b[1;32m    176\u001b[0m         \u001b[0mprint\u001b[0m\u001b[0;34m(\u001b[0m\u001b[0;34m\"log prior\"\u001b[0m\u001b[0;34m)\u001b[0m\u001b[0;34m\u001b[0m\u001b[0;34m\u001b[0m\u001b[0m\n\u001b[1;32m    177\u001b[0m         \u001b[0mprint\u001b[0m\u001b[0;34m(\u001b[0m\u001b[0mlog_prior\u001b[0m\u001b[0;34m)\u001b[0m\u001b[0;34m\u001b[0m\u001b[0;34m\u001b[0m\u001b[0m\n\u001b[0;32m--> 178\u001b[0;31m         \u001b[0mlog_likelihood\u001b[0m\u001b[0;34m=\u001b[0m \u001b[0;34m-\u001b[0m \u001b[0mnp\u001b[0m\u001b[0;34m.\u001b[0m\u001b[0msum\u001b[0m\u001b[0;34m(\u001b[0m\u001b[0;36m.5\u001b[0m\u001b[0;34m*\u001b[0m\u001b[0;34m(\u001b[0m\u001b[0;34m(\u001b[0m\u001b[0;34m(\u001b[0m\u001b[0mtest_data\u001b[0m\u001b[0;34m[\u001b[0m\u001b[0;32mNone\u001b[0m\u001b[0;34m,\u001b[0m \u001b[0;34m:\u001b[0m\u001b[0;34m,\u001b[0m \u001b[0;34m:\u001b[0m\u001b[0;34m]\u001b[0m \u001b[0;34m-\u001b[0m \u001b[0mmu\u001b[0m\u001b[0;34m[\u001b[0m\u001b[0;34m:\u001b[0m\u001b[0;34m,\u001b[0m\u001b[0;32mNone\u001b[0m\u001b[0;34m,\u001b[0m\u001b[0;34m:\u001b[0m\u001b[0;34m]\u001b[0m\u001b[0;34m)\u001b[0m\u001b[0;34m)\u001b[0m\u001b[0;34m**\u001b[0m\u001b[0;36m2\u001b[0m\u001b[0;34m)\u001b[0m\u001b[0;34m,\u001b[0m \u001b[0;36m2\u001b[0m\u001b[0;34m)\u001b[0m\u001b[0;34m\u001b[0m\u001b[0;34m\u001b[0m\u001b[0m\n\u001b[0m\u001b[1;32m    179\u001b[0m         \u001b[0mprint\u001b[0m\u001b[0;34m(\u001b[0m\u001b[0;34m\"likelihood \"\u001b[0m\u001b[0;34m)\u001b[0m\u001b[0;34m\u001b[0m\u001b[0;34m\u001b[0m\u001b[0m\n\u001b[1;32m    180\u001b[0m         \u001b[0mprint\u001b[0m\u001b[0;34m(\u001b[0m\u001b[0mlog_likelihood\u001b[0m\u001b[0;34m)\u001b[0m\u001b[0;34m\u001b[0m\u001b[0;34m\u001b[0m\u001b[0m\n",
      "\u001b[0;31mIndexError\u001b[0m: too many indices for array"
     ]
    }
   ],
   "source": [
    "#NAIVE BAYES\n",
    "import numpy as np\n",
    "import Models.naive_bayes_v2 as nb \n",
    "\n",
    "feature_types= np.array([\"continuous\",\"continuous\",\"continuous\",\"continuous\",\"continuous\",\"continuous\",\"continuous\",\"continuous\",\"continuous\",\"continuous\",\"continuous\",\"continuous\",\"continuous\",\"continuous\",\"continuous\",\"continuous\",\"continuous\",\"continuous\",\"continuous\",\"continuous\",\"continuous\",\"continuous\",\"continuous\",\"continuous\",\"continuous\",\"continuous\",\"continuous\",\"continuous\",\"continuous\",\"continuous\",\"continuous\",\"continuous\",\"continuous\",\"continuous\"])\n",
    "ionnb= nb.Naive_Bayes(\"ionosphere\", \"binary\", feature_types)\n",
    "parameters= ionnb.fit(training_data_ion, training_labels_ion, validate_labels_ion)\n",
    "results= ionnb.predict(xTest_ion, parameters)\n"
   ]
  }
 ]
}