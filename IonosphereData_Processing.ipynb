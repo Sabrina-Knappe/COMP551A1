{
  "nbformat": 4,
  "nbformat_minor": 0,
  "metadata": {
    "colab": {
      "name": "COMP551_Assignment1.ipynb",
      "provenance": [],
      "collapsed_sections": [],
      "authorship_tag": "ABX9TyPqFjXAN98AZLXkMFYk1qwl",
      "include_colab_link": true
    },
    "kernelspec": {
      "name": "python3",
      "display_name": "Python 3"
    }
  },
  "cells": [
    {
      "cell_type": "markdown",
      "metadata": {
        "id": "view-in-github",
        "colab_type": "text"
      },
      "source": [
        "<a href=\"https://colab.research.google.com/github/Sabrina-Knappe/COMP551A1/blob/master/COMP551_Assignment1.ipynb\" target=\"_parent\"><img src=\"https://colab.research.google.com/assets/colab-badge.svg\" alt=\"Open In Colab\"/></a>"
      ]
    },
    {
      "cell_type": "markdown",
      "metadata": {
        "id": "-_x34XV8aWFa",
        "colab_type": "text"
      },
      "source": [
        "Import dataset "
      ]
    },
    {
      "cell_type": "code",
      "metadata": {
        "id": "4UJJpMtyUdzV",
        "colab_type": "code",
        "outputId": "15f87a30-aabc-4590-d530-6d8ef5fec7cc",
        "colab": {
          "base_uri": "https://localhost:8080/",
          "height": 255
        }
      },
      "source": [
        "# Import package\n",
        "from urllib.request import urlretrieve\n",
        "\n",
        "# Import pandas\n",
        "import pandas as pd\n",
        "\n",
        "# Assign url of file: url\n",
        "url = 'https://archive.ics.uci.edu/ml/machine-learning-databases/ionosphere/ionosphere.data'\n",
        "\n",
        "# Save file locally\n",
        "urlretrieve(url, 'ionosphere-data.csv')\n",
        "\n",
        "# Read file into a DataFrame and print its head\n",
        "df = pd.read_csv('ionosphere-data.csv', sep=',')\n",
        "print(df)"
      ],
      "execution_count": 0,
      "outputs": [
        {
          "output_type": "stream",
          "text": [
            "     1  0  0.99539  -0.05889  0.85243  ...  0.42267  -0.54487  0.18641  -0.45300  g\n",
            "0    1  0  1.00000  -0.18829  0.93035  ... -0.16626  -0.06288 -0.13738  -0.02447  b\n",
            "1    1  0  1.00000  -0.03365  1.00000  ...  0.60436  -0.24180  0.56045  -0.38238  g\n",
            "2    1  0  1.00000  -0.45161  1.00000  ...  0.25682   1.00000 -0.32382   1.00000  b\n",
            "3    1  0  1.00000  -0.02401  0.94140  ... -0.05707  -0.59573 -0.04608  -0.65697  g\n",
            "4    1  0  0.02337  -0.00592 -0.09924  ...  0.00000   0.00000 -0.00039   0.12011  b\n",
            "..  .. ..      ...       ...      ...  ...      ...       ...      ...       ... ..\n",
            "345  1  0  0.83508   0.08298  0.73739  ...  0.86660  -0.10714  0.90546  -0.04307  g\n",
            "346  1  0  0.95113   0.00419  0.95183  ...  0.94066  -0.00035  0.91483   0.04712  g\n",
            "347  1  0  0.94701  -0.00034  0.93207  ...  0.92459   0.00442  0.92697  -0.00577  g\n",
            "348  1  0  0.90608  -0.01657  0.98122  ...  0.96022  -0.03757  0.87403  -0.16243  g\n",
            "349  1  0  0.84710   0.13533  0.73638  ...  0.75747  -0.06678  0.85764  -0.06151  g\n",
            "\n",
            "[350 rows x 35 columns]\n"
          ],
          "name": "stdout"
        }
      ]
    },
    {
      "cell_type": "markdown",
      "metadata": {
        "id": "lHHWJI2Rbmvo",
        "colab_type": "text"
      },
      "source": [
        "Create numpy arrays"
      ]
    },
    {
      "cell_type": "code",
      "metadata": {
        "id": "7Oi8nMpAcx6R",
        "colab_type": "code",
        "colab": {}
      },
      "source": [
        "# Import numpy\n",
        "import numpy as np\n",
        "\n",
        "# Convert to numpy\n",
        "temp = df.to_numpy()\n",
        "\n",
        "# Split array into design matrix and labels"
      ],
      "execution_count": 0,
      "outputs": []
    }
  ]
}
