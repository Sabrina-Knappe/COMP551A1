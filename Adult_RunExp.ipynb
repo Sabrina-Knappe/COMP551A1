{
 "nbformat": 4,
 "nbformat_minor": 2,
 "metadata": {
  "language_info": {
   "name": "python",
   "codemirror_mode": {
    "name": "ipython",
    "version": 3
   },
   "version": "3.7.4-final"
  },
  "orig_nbformat": 2,
  "file_extension": ".py",
  "mimetype": "text/x-python",
  "name": "python",
  "npconvert_exporter": "python",
  "pygments_lexer": "ipython3",
  "version": 3,
  "kernelspec": {
   "name": "python37464bit6f19452678144e6e97437b4df42ffca5",
   "display_name": "Python 3.7.4 64-bit"
  }
 },
 "cells": [
  {
   "cell_type": "code",
   "execution_count": 1,
   "metadata": {},
   "outputs": [
    {
     "name": "stdout",
     "output_type": "stream",
     "text": "0                  1       2            3   4                    5   \\\n0      39          State-gov   77516    Bachelors  13        Never-married   \n1      50   Self-emp-not-inc   83311    Bachelors  13   Married-civ-spouse   \n2      38            Private  215646      HS-grad   9             Divorced   \n3      53            Private  234721         11th   7   Married-civ-spouse   \n4      28            Private  338409    Bachelors  13   Married-civ-spouse   \n...    ..                ...     ...          ...  ..                  ...   \n32556  27            Private  257302   Assoc-acdm  12   Married-civ-spouse   \n32557  40            Private  154374      HS-grad   9   Married-civ-spouse   \n32558  58            Private  151910      HS-grad   9              Widowed   \n32559  22            Private  201490      HS-grad   9        Never-married   \n32560  52       Self-emp-inc  287927      HS-grad   9   Married-civ-spouse   \n\n                       6               7       8        9      10  11  12  \\\n0            Adm-clerical   Not-in-family   White     Male   2174   0  40   \n1         Exec-managerial         Husband   White     Male      0   0  13   \n2       Handlers-cleaners   Not-in-family   White     Male      0   0  40   \n3       Handlers-cleaners         Husband   Black     Male      0   0  40   \n4          Prof-specialty            Wife   Black   Female      0   0  40   \n...                   ...             ...     ...      ...    ...  ..  ..   \n32556        Tech-support            Wife   White   Female      0   0  38   \n32557   Machine-op-inspct         Husband   White     Male      0   0  40   \n32558        Adm-clerical       Unmarried   White   Female      0   0  40   \n32559        Adm-clerical       Own-child   White     Male      0   0  20   \n32560     Exec-managerial            Wife   White   Female  15024   0  40   \n\n                   13      14  \n0       United-States   <=50K  \n1       United-States   <=50K  \n2       United-States   <=50K  \n3       United-States   <=50K  \n4                Cuba   <=50K  \n...               ...     ...  \n32556   United-States   <=50K  \n32557   United-States    >50K  \n32558   United-States   <=50K  \n32559   United-States   <=50K  \n32560   United-States    >50K  \n\n[32561 rows x 15 columns]\n       0              1       2              3   4                    5   \\\n0      25        Private  226802           11th   7        Never-married   \n1      38        Private   89814        HS-grad   9   Married-civ-spouse   \n2      28      Local-gov  336951     Assoc-acdm  12   Married-civ-spouse   \n3      44        Private  160323   Some-college  10   Married-civ-spouse   \n4      18              ?  103497   Some-college  10        Never-married   \n...    ..            ...     ...            ...  ..                  ...   \n16276  39        Private  215419      Bachelors  13             Divorced   \n16277  64              ?  321403        HS-grad   9              Widowed   \n16278  38        Private  374983      Bachelors  13   Married-civ-spouse   \n16279  44        Private   83891      Bachelors  13             Divorced   \n16280  35   Self-emp-inc  182148      Bachelors  13   Married-civ-spouse   \n\n                       6                7                    8        9   \\\n0       Machine-op-inspct        Own-child                Black     Male   \n1         Farming-fishing          Husband                White     Male   \n2         Protective-serv          Husband                White     Male   \n3       Machine-op-inspct          Husband                Black     Male   \n4                       ?        Own-child                White   Female   \n...                   ...              ...                  ...      ...   \n16276      Prof-specialty    Not-in-family                White   Female   \n16277                   ?   Other-relative                Black     Male   \n16278      Prof-specialty          Husband                White     Male   \n16279        Adm-clerical        Own-child   Asian-Pac-Islander     Male   \n16280     Exec-managerial          Husband                White     Male   \n\n         10  11  12              13       14  \n0         0   0  40   United-States   <=50K.  \n1         0   0  50   United-States   <=50K.  \n2         0   0  40   United-States    >50K.  \n3      7688   0  40   United-States    >50K.  \n4         0   0  30   United-States   <=50K.  \n...     ...  ..  ..             ...      ...  \n16276     0   0  36   United-States   <=50K.  \n16277     0   0  40   United-States   <=50K.  \n16278     0   0  50   United-States   <=50K.  \n16279  5455   0  40   United-States   <=50K.  \n16280     0   0  60   United-States    >50K.  \n\n[16281 rows x 15 columns]\n   age  fnlwgt  educational-num  capital-gain  capital-loss  hours-per-week  \\\n0   39   77516               13          2174             0              40   \n1   50   83311               13             0             0              13   \n2   38  215646                9             0             0              40   \n3   53  234721                7             0             0              40   \n4   28  338409               13             0             0              40   \n\n   workclass_ ?  workclass_ Federal-gov  workclass_ Local-gov  \\\n0             0                       0                     0   \n1             0                       0                     0   \n2             0                       0                     0   \n3             0                       0                     0   \n4             0                       0                     0   \n\n   workclass_ Never-worked  ...  native-country_ Portugal  \\\n0                        0  ...                         0   \n1                        0  ...                         0   \n2                        0  ...                         0   \n3                        0  ...                         0   \n4                        0  ...                         0   \n\n   native-country_ Puerto-Rico  native-country_ Scotland  \\\n0                            0                         0   \n1                            0                         0   \n2                            0                         0   \n3                            0                         0   \n4                            0                         0   \n\n   native-country_ South  native-country_ Taiwan  native-country_ Thailand  \\\n0                      0                       0                         0   \n1                      0                       0                         0   \n2                      0                       0                         0   \n3                      0                       0                         0   \n4                      0                       0                         0   \n\n   native-country_ Trinadad&Tobago  native-country_ United-States  \\\n0                                0                              1   \n1                                0                              1   \n2                                0                              1   \n3                                0                              1   \n4                                0                              0   \n\n   native-country_ Vietnam  native-country_ Yugoslavia  \n0                        0                           0  \n1                        0                           0  \n2                        0                           0  \n3                        0                           0  \n4                        0                           0  \n\n[5 rows x 108 columns]\nage\ncount    32561.000000\nmean        38.581647\nstd         13.640433\nmin         17.000000\n25%         28.000000\n50%         37.000000\n75%         48.000000\nmax         90.000000\nName: age, dtype: float64\n\n\nworkclass\n Private             22696\n Self-emp-not-inc     2541\n Local-gov            2093\n ?                    1836\n State-gov            1298\n Self-emp-inc         1116\n Federal-gov           960\n Without-pay            14\n Never-worked            7\nName: workclass, dtype: int64\n\n\nfnlwgt\ncount    3.256100e+04\nmean     1.897784e+05\nstd      1.055500e+05\nmin      1.228500e+04\n25%      1.178270e+05\n50%      1.783560e+05\n75%      2.370510e+05\nmax      1.484705e+06\nName: fnlwgt, dtype: float64\n\n\neducation\n HS-grad         10501\n Some-college     7291\n Bachelors        5355\n Masters          1723\n Assoc-voc        1382\n 11th             1175\n Assoc-acdm       1067\n 10th              933\n 7th-8th           646\n Prof-school       576\n 9th               514\n 12th              433\n Doctorate         413\n 5th-6th           333\n 1st-4th           168\n Preschool          51\nName: education, dtype: int64\n\n\neducational-num\ncount    32561.000000\nmean        10.080679\nstd          2.572720\nmin          1.000000\n25%          9.000000\n50%         10.000000\n75%         12.000000\nmax         16.000000\nName: educational-num, dtype: float64\n\n\nmarital-status\n Married-civ-spouse       14976\n Never-married            10683\n Divorced                  4443\n Separated                 1025\n Widowed                    993\n Married-spouse-absent      418\n Married-AF-spouse           23\nName: marital-status, dtype: int64\n\n\noccupation\n Prof-specialty       4140\n Craft-repair         4099\n Exec-managerial      4066\n Adm-clerical         3770\n Sales                3650\n Other-service        3295\n Machine-op-inspct    2002\n ?                    1843\n Transport-moving     1597\n Handlers-cleaners    1370\n Farming-fishing       994\n Tech-support          928\n Protective-serv       649\n Priv-house-serv       149\n Armed-Forces            9\nName: occupation, dtype: int64\n\n\nrelationship\n Husband           13193\n Not-in-family      8305\n Own-child          5068\n Unmarried          3446\n Wife               1568\n Other-relative      981\nName: relationship, dtype: int64\n\n\nrace\n White                 27816\n Black                  3124\n Asian-Pac-Islander     1039\n Amer-Indian-Eskimo      311\n Other                   271\nName: race, dtype: int64\n\n\ngender\n Male      21790\n Female    10771\nName: gender, dtype: int64\n\n\ncapital-gain\ncount    32561.000000\nmean      1077.648844\nstd       7385.292085\nmin          0.000000\n25%          0.000000\n50%          0.000000\n75%          0.000000\nmax      99999.000000\nName: capital-gain, dtype: float64\n\n\ncapital-loss\ncount    32561.000000\nmean        87.303830\nstd        402.960219\nmin          0.000000\n25%          0.000000\n50%          0.000000\n75%          0.000000\nmax       4356.000000\nName: capital-loss, dtype: float64\n\n\nhours-per-week\ncount    32561.000000\nmean        40.437456\nstd         12.347429\nmin          1.000000\n25%         40.000000\n50%         40.000000\n75%         45.000000\nmax         99.000000\nName: hours-per-week, dtype: float64\n\n\nnative-country\n United-States                 29170\n Mexico                          643\n ?                               583\n Philippines                     198\n Germany                         137\n Canada                          121\n Puerto-Rico                     114\n El-Salvador                     106\n India                           100\n Cuba                             95\n England                          90\n Jamaica                          81\n South                            80\n China                            75\n Italy                            73\n Dominican-Republic               70\n Vietnam                          67\n Guatemala                        64\n Japan                            62\n Poland                           60\n Columbia                         59\n Taiwan                           51\n Haiti                            44\n Iran                             43\n Portugal                         37\n Nicaragua                        34\n Peru                             31\n France                           29\n Greece                           29\n Ecuador                          28\n Ireland                          24\n Hong                             20\n Cambodia                         19\n Trinadad&Tobago                  19\n Thailand                         18\n Laos                             18\n Yugoslavia                       16\n Outlying-US(Guam-USVI-etc)       14\n Honduras                         13\n Hungary                          13\n Scotland                         12\n Holand-Netherlands                1\nName: native-country, dtype: int64\n\n\nincome\n <=50K    24720\n >50K      7841\nName: income, dtype: int64\n\n\n"
    }
   ],
   "source": [
    "#PREPROCESS DATA\n",
    "import Data_Preprocessing.data_preprocess_adultData as preprocess \n",
    "features, feature_types, labels= preprocess.preprocess_adult()"
   ]
  },
  {
   "cell_type": "code",
   "execution_count": 2,
   "metadata": {},
   "outputs": [
    {
     "name": "stdout",
     "output_type": "stream",
     "text": "[' <=50K.' ' >50K.' ' <=50K.' ... ' <=50K' ' <=50K.' ' >50K']\n[' >50K' ' <=50K' ' <=50K' ... ' <=50K.' ' <=50K.' ' <=50K']\n"
    }
   ],
   "source": [
    "#KCROSS FOLD VALIDATION\n",
    "import Models.kfold_CV_try as cv\n",
    "\n",
    "# Train test split\n",
    "xTrain_adult, xTest_adult, yTrain_adult, yTest_adult = cv.split_train_test(features, labels, 0.2)\n",
    "print(yTrain_adult);print(yTest_adult)"
   ]
  },
  {
   "cell_type": "code",
   "execution_count": 3,
   "metadata": {},
   "outputs": [
    {
     "name": "stdout",
     "output_type": "stream",
     "text": "[[38 175441 9 ... 1 0 0]\n [68 218637 10 ... 1 0 0]\n [49 107373 6 ... 1 0 0]\n ...\n [42 139012 11 ... 0 1 0]\n [39 242922 9 ... 1 0 0]\n [35 145308 10 ... 1 0 0]] [' <=50K' ' >50K' ' >50K.' ... ' >50K.' ' <=50K' ' <=50K']\n(6873, 108) (6873,)\n"
    }
   ],
   "source": [
    "folds = 5 # delete folds later when embedded in function input\n",
    "# cv_train_data_ion is xTrain_ion split into five chunks\n",
    "dataset_split_in, cv_train_data_adult,cv_train_label_adult= cv.kfold_cross_validation(xTrain_adult,yTrain_adult,folds)\n",
    "# print(cv_train_data_ion,cv_train_label_ion)\n",
    "\n",
    "# the last input for cv.train_validation_split is the number of experiments you are running currently, 5 in total. \n",
    "# each experiments is organizing the five chunks from cv_train_data_ion into 4 chunks for training_data_ion and 1 chunk for validate_data_ion for cross validation, just need to uncomment the line you want to experiment currently. \n",
    "\n",
    "# will be in a for-loop when computing accuracy scores \n",
    "#exp1: \n",
    "validate_data_adult,validate_labels_adult,training_data_adult,training_labels_adult = cv.train_validation_split(cv_train_data_adult,cv_train_label_adult,1)\n",
    "\n",
    "#exp2:\n",
    "#validate_data_ion,validate_labels_ion,training_data_ion,training_labels_ion = cv.train_validation_split(cv_train_data_ion,cv_train_label_ion,2)\n",
    "\n",
    "#exp3:\n",
    "#validate_data_ion,validate_labels_ion,training_data_ion,training_labels_ion = cv.train_validation_split(cv_train_data_ion,cv_train_label_ion,3)\n",
    "\n",
    "#exp4:\n",
    "#validate_data_ion,validate_labels_ion,training_data_ion,training_labels_ion = cv.train_validation_split(cv_train_data_ion,cv_train_label_ion,4)\n",
    "\n",
    "#exp5: \n",
    "#validate_data_ion,validate_labels_ion,training_data_ion,training_labels_ion = cv.train_validation_split(cv_train_data_ion,cv_train_label_ion,5)\n",
    "print(validate_data_adult,validate_labels_adult)\n",
    "print(validate_data_adult.shape,validate_labels_adult.shape)"
   ]
  },
  {
   "cell_type": "code",
   "execution_count": null,
   "metadata": {},
   "outputs": [],
   "source": [
    "#NAIVE BAYES\n"
   ]
  },
  {
   "cell_type": "code",
   "execution_count": 4,
   "metadata": {},
   "outputs": [
    {
     "name": "stdout",
     "output_type": "stream",
     "text": "Now fitting Ionosphere\n59930.92956491005\n34494.85048762559\n34494.85048762559\n154284.32786296422\n34494.85048762559\n34494.85048762559\n34494.85048762559\n34494.85048762559\n34494.85048762559\n154284.32786296422\n34494.85048762559\n34494.85048762559\n34494.85048762559\n34494.85048762559\n153931.48118053187\n34494.85048762559\n34494.85048762559\n34494.85048762559\n34494.85048762559\n34494.85048762559\n154245.98710081517\n34494.85048762559\n34494.85048762559\n34494.85048762559\n34494.85048762559\n153622.07260244916\n34494.85048762559\n34494.85048762559\n34494.85048762559\n34494.85048762559\n34494.85048762559\n154105.22263815286\n34494.85048762559\n34494.85048762559\n34494.85048762559\n34494.85048762559\n153547.68480079205\n34494.85048762559\n34494.85048762559\n34494.85048762559\n34494.85048762559\n34494.85048762559\n153978.8453892053\n34494.85048762559\n34494.85048762559\n34494.85048762559\n34494.85048762559\n153420.02127692575\n34494.85048762559\n34494.85048762559\n34494.85048762559\n34494.85048762559\n148017.9867724312\n34494.85048762559\n34494.85048762559\n34494.85048762559\n34494.85048762559\n34494.85048762559\n153555.9032875799\n34494.85048762559\n34494.85048762559\n34494.85048762559\n34494.85048762559\n152773.1467499474\n34494.85048762559\n34494.85048762559\n34494.85048762559\n34494.85048762559\n34494.85048762559\n153555.08185757665\n34494.85048762559\n34494.85048762559\n34494.85048762559\n34494.85048762559\n152957.07552100852\n34494.85048762559\n34494.85048762559\n34494.85048762559\n34494.85048762559\n139118.7540689538\n34494.85048762559\n34494.85048762559\n34494.85048762559\n34494.85048762559\n34494.85048762559\n153509.33871247573\n34494.85048762559\n34494.85048762559\n34494.85048762559\n34494.85048762559\n152904.13307472225\n34494.85048762559\n34494.85048762559\n34494.85048762559\n34494.85048762559\n144776.47614831134\n34494.85048762559\n34494.85048762559\n34494.85048762559\n34494.85048762559\n34494.85048762559\n153242.06083979164\n34494.85048762559\n34494.85048762559\n34494.85048762559\n34494.85048762559\n152455.35964866646\n34494.85048762559\n34494.85048762559\n34494.85048762559\n34494.85048762559\n139406.59203800882\n34494.85048762559\n34494.85048762559\n34494.85048762559\n34494.85048762559\n34494.85048762559\n153224.86997090213\n34494.85048762559\n34494.85048762559\n34494.85048762559\n34494.85048762559\n152514.6171962479\n34494.85048762559\n34494.85048762559\n34494.85048762559\n34494.85048762559\n144457.5094691082\n34494.85048762559\n34494.85048762559\n34494.85048762559\n34494.85048762559\n34494.85048762559\n153102.3565560756\n34494.85048762559\n34494.85048762559\n"
    },
    {
     "ename": "KeyboardInterrupt",
     "evalue": "",
     "output_type": "error",
     "traceback": [
      "\u001b[0;31m---------------------------------------------------------------------------\u001b[0m",
      "\u001b[0;31mKeyboardInterrupt\u001b[0m                         Traceback (most recent call last)",
      "\u001b[0;32m<ipython-input-4-16c2a9046c87>\u001b[0m in \u001b[0;36m<module>\u001b[0;34m\u001b[0m\n\u001b[1;32m      3\u001b[0m \u001b[0madultlr1\u001b[0m \u001b[0;34m=\u001b[0m \u001b[0mlr\u001b[0m\u001b[0;34m.\u001b[0m\u001b[0mLogistic_Regression\u001b[0m\u001b[0;34m(\u001b[0m\u001b[0;36m0.02\u001b[0m\u001b[0;34m,\u001b[0m\u001b[0;34m\"Ionosphere\"\u001b[0m\u001b[0;34m,\u001b[0m\u001b[0;34m\"binary\"\u001b[0m\u001b[0;34m)\u001b[0m \u001b[0;31m# input step size\u001b[0m\u001b[0;34m\u001b[0m\u001b[0;34m\u001b[0m\u001b[0m\n\u001b[1;32m      4\u001b[0m \u001b[0;31m# params = ionslr1.fit(cv_train_data, cv_train_label, 0.02, 1e-1)\u001b[0m\u001b[0;34m\u001b[0m\u001b[0;34m\u001b[0m\u001b[0;34m\u001b[0m\u001b[0m\n\u001b[0;32m----> 5\u001b[0;31m \u001b[0mparams\u001b[0m \u001b[0;34m=\u001b[0m \u001b[0madultlr1\u001b[0m\u001b[0;34m.\u001b[0m\u001b[0mfit\u001b[0m\u001b[0;34m(\u001b[0m\u001b[0mtraining_data_adult\u001b[0m\u001b[0;34m,\u001b[0m\u001b[0mtraining_labels_adult\u001b[0m\u001b[0;34m,\u001b[0m\u001b[0;36m0.02\u001b[0m\u001b[0;34m,\u001b[0m\u001b[0;36m1e-1\u001b[0m\u001b[0;34m)\u001b[0m\u001b[0;34m\u001b[0m\u001b[0;34m\u001b[0m\u001b[0m\n\u001b[0m\u001b[1;32m      6\u001b[0m \u001b[0mprint\u001b[0m\u001b[0;34m(\u001b[0m\u001b[0mparams\u001b[0m\u001b[0;34m)\u001b[0m\u001b[0;34m\u001b[0m\u001b[0;34m\u001b[0m\u001b[0m\n\u001b[1;32m      7\u001b[0m \u001b[0mresults\u001b[0m\u001b[0;34m=\u001b[0m \u001b[0madultlr1\u001b[0m\u001b[0;34m.\u001b[0m\u001b[0mpredict\u001b[0m\u001b[0;34m(\u001b[0m\u001b[0mparams\u001b[0m\u001b[0;34m,\u001b[0m \u001b[0mxTest_adult\u001b[0m\u001b[0;34m)\u001b[0m\u001b[0;34m\u001b[0m\u001b[0;34m\u001b[0m\u001b[0m\n",
      "\u001b[0;32m~/Documents/GitHub/COMP551A1/Models/logisticRegression.py\u001b[0m in \u001b[0;36mfit\u001b[0;34m(self, training_data, training_labels, learning_rate, term)\u001b[0m\n\u001b[1;32m     29\u001b[0m                 \u001b[0mchar_to_int\u001b[0m \u001b[0;34m=\u001b[0m \u001b[0mdict\u001b[0m\u001b[0;34m(\u001b[0m\u001b[0;34m(\u001b[0m\u001b[0mc\u001b[0m\u001b[0;34m,\u001b[0m \u001b[0mi\u001b[0m\u001b[0;34m)\u001b[0m \u001b[0;32mfor\u001b[0m \u001b[0mi\u001b[0m\u001b[0;34m,\u001b[0m \u001b[0mc\u001b[0m \u001b[0;32min\u001b[0m \u001b[0menumerate\u001b[0m\u001b[0;34m(\u001b[0m\u001b[0mcategories\u001b[0m\u001b[0;34m)\u001b[0m\u001b[0;34m)\u001b[0m\u001b[0;34m\u001b[0m\u001b[0;34m\u001b[0m\u001b[0m\n\u001b[1;32m     30\u001b[0m                 \u001b[0mint_labels\u001b[0m \u001b[0;34m=\u001b[0m \u001b[0;34m[\u001b[0m\u001b[0mchar_to_int\u001b[0m\u001b[0;34m[\u001b[0m\u001b[0mcategories\u001b[0m\u001b[0;34m]\u001b[0m \u001b[0;32mfor\u001b[0m \u001b[0mcategories\u001b[0m \u001b[0;32min\u001b[0m \u001b[0mtraining_labels\u001b[0m\u001b[0;34m]\u001b[0m\u001b[0;34m\u001b[0m\u001b[0;34m\u001b[0m\u001b[0m\n\u001b[0;32m---> 31\u001b[0;31m                 \u001b[0mtemp\u001b[0m \u001b[0;34m=\u001b[0m \u001b[0mself\u001b[0m\u001b[0;34m.\u001b[0m\u001b[0mgradient\u001b[0m\u001b[0;34m(\u001b[0m\u001b[0mtraining_data\u001b[0m\u001b[0;34m,\u001b[0m \u001b[0mint_labels\u001b[0m\u001b[0;34m,\u001b[0m \u001b[0mself\u001b[0m\u001b[0;34m.\u001b[0m\u001b[0mparams\u001b[0m\u001b[0;34m,\u001b[0m \u001b[0mself\u001b[0m\u001b[0;34m.\u001b[0m\u001b[0mregularization\u001b[0m\u001b[0;34m)\u001b[0m\u001b[0;34m\u001b[0m\u001b[0;34m\u001b[0m\u001b[0m\n\u001b[0m\u001b[1;32m     32\u001b[0m             \u001b[0;32melse\u001b[0m\u001b[0;34m:\u001b[0m\u001b[0;34m\u001b[0m\u001b[0;34m\u001b[0m\u001b[0m\n\u001b[1;32m     33\u001b[0m                 \u001b[0monehot_labels\u001b[0m \u001b[0;34m=\u001b[0m \u001b[0mself\u001b[0m\u001b[0;34m.\u001b[0m\u001b[0monehot\u001b[0m\u001b[0;34m(\u001b[0m\u001b[0mtraining_labels\u001b[0m\u001b[0;34m)\u001b[0m\u001b[0;34m\u001b[0m\u001b[0;34m\u001b[0m\u001b[0m\n",
      "\u001b[0;32m~/Documents/GitHub/COMP551A1/Models/logisticRegression.py\u001b[0m in \u001b[0;36mgradient\u001b[0;34m(self, design_matrix, labels, params, regularization)\u001b[0m\n\u001b[1;32m    101\u001b[0m         \u001b[0;31m#Finds gradient for a given set of params\u001b[0m\u001b[0;34m\u001b[0m\u001b[0;34m\u001b[0m\u001b[0;34m\u001b[0m\u001b[0m\n\u001b[1;32m    102\u001b[0m         \u001b[0mN\u001b[0m\u001b[0;34m,\u001b[0m\u001b[0mD\u001b[0m \u001b[0;34m=\u001b[0m \u001b[0mdesign_matrix\u001b[0m\u001b[0;34m.\u001b[0m\u001b[0mshape\u001b[0m\u001b[0;34m\u001b[0m\u001b[0;34m\u001b[0m\u001b[0m\n\u001b[0;32m--> 103\u001b[0;31m         \u001b[0mz\u001b[0m \u001b[0;34m=\u001b[0m \u001b[0mnp\u001b[0m\u001b[0;34m.\u001b[0m\u001b[0mdot\u001b[0m\u001b[0;34m(\u001b[0m\u001b[0mdesign_matrix\u001b[0m\u001b[0;34m,\u001b[0m \u001b[0mparams\u001b[0m\u001b[0;34m)\u001b[0m\u001b[0;34m\u001b[0m\u001b[0;34m\u001b[0m\u001b[0m\n\u001b[0m\u001b[1;32m    104\u001b[0m         \u001b[0;31m# print(z.shape)\u001b[0m\u001b[0;34m\u001b[0m\u001b[0;34m\u001b[0m\u001b[0;34m\u001b[0m\u001b[0m\n\u001b[1;32m    105\u001b[0m         \u001b[0;31m# print(params.shape)\u001b[0m\u001b[0;34m\u001b[0m\u001b[0;34m\u001b[0m\u001b[0;34m\u001b[0m\u001b[0m\n",
      "\u001b[0;32m<__array_function__ internals>\u001b[0m in \u001b[0;36mdot\u001b[0;34m(*args, **kwargs)\u001b[0m\n",
      "\u001b[0;31mKeyboardInterrupt\u001b[0m: "
     ]
    }
   ],
   "source": [
    "#LOGISTIC REGRESSION\n",
    "import Models.logisticRegression as lr\n",
    "adultlr1 = lr.Logistic_Regression(0.02,\"Ionosphere\",\"binary\") # input step size\n",
    "# params = ionslr1.fit(cv_train_data, cv_train_label, 0.02, 1e-1)\n",
    "params = adultlr1.fit(training_data_adult,training_labels_adult,0.02,1e-1)\n",
    "print(params)\n",
    "results= adultlr1.predict(params, xTest_adult)\n",
    "print(results)\n",
    "#adding a separate comment\n",
    "# input learning rate and termination conditions"
   ]
  },
  {
   "cell_type": "code",
   "execution_count": null,
   "metadata": {},
   "outputs": [],
   "source": [
    "#ACCURACY"
   ]
  }
 ]
}