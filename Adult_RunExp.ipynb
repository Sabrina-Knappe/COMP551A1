{
 "nbformat": 4,
 "nbformat_minor": 2,
 "metadata": {
  "language_info": {
   "name": "python",
   "codemirror_mode": {
    "name": "ipython",
    "version": 3
   },
   "version": "3.7.4-final"
  },
  "orig_nbformat": 2,
  "file_extension": ".py",
  "mimetype": "text/x-python",
  "name": "python",
  "npconvert_exporter": "python",
  "pygments_lexer": "ipython3",
  "version": 3,
  "kernelspec": {
   "name": "python37464bit6f19452678144e6e97437b4df42ffca5",
   "display_name": "Python 3.7.4 64-bit"
  }
 },
 "cells": [
  {
   "cell_type": "code",
   "execution_count": 1,
   "metadata": {},
   "outputs": [
    {
     "name": "stdout",
     "output_type": "stream",
     "text": "0                  1       2            3   4                    5   \\\n0      39          State-gov   77516    Bachelors  13        Never-married   \n1      50   Self-emp-not-inc   83311    Bachelors  13   Married-civ-spouse   \n2      38            Private  215646      HS-grad   9             Divorced   \n3      53            Private  234721         11th   7   Married-civ-spouse   \n4      28            Private  338409    Bachelors  13   Married-civ-spouse   \n...    ..                ...     ...          ...  ..                  ...   \n32556  27            Private  257302   Assoc-acdm  12   Married-civ-spouse   \n32557  40            Private  154374      HS-grad   9   Married-civ-spouse   \n32558  58            Private  151910      HS-grad   9              Widowed   \n32559  22            Private  201490      HS-grad   9        Never-married   \n32560  52       Self-emp-inc  287927      HS-grad   9   Married-civ-spouse   \n\n                       6               7       8        9      10  11  12  \\\n0            Adm-clerical   Not-in-family   White     Male   2174   0  40   \n1         Exec-managerial         Husband   White     Male      0   0  13   \n2       Handlers-cleaners   Not-in-family   White     Male      0   0  40   \n3       Handlers-cleaners         Husband   Black     Male      0   0  40   \n4          Prof-specialty            Wife   Black   Female      0   0  40   \n...                   ...             ...     ...      ...    ...  ..  ..   \n32556        Tech-support            Wife   White   Female      0   0  38   \n32557   Machine-op-inspct         Husband   White     Male      0   0  40   \n32558        Adm-clerical       Unmarried   White   Female      0   0  40   \n32559        Adm-clerical       Own-child   White     Male      0   0  20   \n32560     Exec-managerial            Wife   White   Female  15024   0  40   \n\n                   13      14  \n0       United-States   <=50K  \n1       United-States   <=50K  \n2       United-States   <=50K  \n3       United-States   <=50K  \n4                Cuba   <=50K  \n...               ...     ...  \n32556   United-States   <=50K  \n32557   United-States    >50K  \n32558   United-States   <=50K  \n32559   United-States   <=50K  \n32560   United-States    >50K  \n\n[32561 rows x 15 columns]\n       0              1       2              3   4                    5   \\\n0      25        Private  226802           11th   7        Never-married   \n1      38        Private   89814        HS-grad   9   Married-civ-spouse   \n2      28      Local-gov  336951     Assoc-acdm  12   Married-civ-spouse   \n3      44        Private  160323   Some-college  10   Married-civ-spouse   \n4      18              ?  103497   Some-college  10        Never-married   \n...    ..            ...     ...            ...  ..                  ...   \n16276  39        Private  215419      Bachelors  13             Divorced   \n16277  64              ?  321403        HS-grad   9              Widowed   \n16278  38        Private  374983      Bachelors  13   Married-civ-spouse   \n16279  44        Private   83891      Bachelors  13             Divorced   \n16280  35   Self-emp-inc  182148      Bachelors  13   Married-civ-spouse   \n\n                       6                7                    8        9   \\\n0       Machine-op-inspct        Own-child                Black     Male   \n1         Farming-fishing          Husband                White     Male   \n2         Protective-serv          Husband                White     Male   \n3       Machine-op-inspct          Husband                Black     Male   \n4                       ?        Own-child                White   Female   \n...                   ...              ...                  ...      ...   \n16276      Prof-specialty    Not-in-family                White   Female   \n16277                   ?   Other-relative                Black     Male   \n16278      Prof-specialty          Husband                White     Male   \n16279        Adm-clerical        Own-child   Asian-Pac-Islander     Male   \n16280     Exec-managerial          Husband                White     Male   \n\n         10  11  12              13       14  \n0         0   0  40   United-States   <=50K.  \n1         0   0  50   United-States   <=50K.  \n2         0   0  40   United-States    >50K.  \n3      7688   0  40   United-States    >50K.  \n4         0   0  30   United-States   <=50K.  \n...     ...  ..  ..             ...      ...  \n16276     0   0  36   United-States   <=50K.  \n16277     0   0  40   United-States   <=50K.  \n16278     0   0  50   United-States   <=50K.  \n16279  5455   0  40   United-States   <=50K.  \n16280     0   0  60   United-States    >50K.  \n\n[16281 rows x 15 columns]\n   age  fnlwgt  educational-num  capital-gain  capital-loss  hours-per-week  \\\n0   39   77516               13          2174             0              40   \n1   50   83311               13             0             0              13   \n2   38  215646                9             0             0              40   \n3   53  234721                7             0             0              40   \n4   28  338409               13             0             0              40   \n\n   workclass_ ?  workclass_ Federal-gov  workclass_ Local-gov  \\\n0             0                       0                     0   \n1             0                       0                     0   \n2             0                       0                     0   \n3             0                       0                     0   \n4             0                       0                     0   \n\n   workclass_ Never-worked  ...  native-country_ Portugal  \\\n0                        0  ...                         0   \n1                        0  ...                         0   \n2                        0  ...                         0   \n3                        0  ...                         0   \n4                        0  ...                         0   \n\n   native-country_ Puerto-Rico  native-country_ Scotland  \\\n0                            0                         0   \n1                            0                         0   \n2                            0                         0   \n3                            0                         0   \n4                            0                         0   \n\n   native-country_ South  native-country_ Taiwan  native-country_ Thailand  \\\n0                      0                       0                         0   \n1                      0                       0                         0   \n2                      0                       0                         0   \n3                      0                       0                         0   \n4                      0                       0                         0   \n\n   native-country_ Trinadad&Tobago  native-country_ United-States  \\\n0                                0                              1   \n1                                0                              1   \n2                                0                              1   \n3                                0                              1   \n4                                0                              0   \n\n   native-country_ Vietnam  native-country_ Yugoslavia  \n0                        0                           0  \n1                        0                           0  \n2                        0                           0  \n3                        0                           0  \n4                        0                           0  \n\n[5 rows x 108 columns]\n"
    },
    {
     "ename": "FileNotFoundError",
     "evalue": "[Errno 2] No such file or directory: 'Dataset_Folder/Dataset2_Adult/'",
     "output_type": "error",
     "traceback": [
      "\u001b[0;31m---------------------------------------------------------------------------\u001b[0m",
      "\u001b[0;31mFileNotFoundError\u001b[0m                         Traceback (most recent call last)",
      "\u001b[0;32m<ipython-input-1-833fbbb77683>\u001b[0m in \u001b[0;36m<module>\u001b[0;34m\u001b[0m\n\u001b[1;32m      1\u001b[0m \u001b[0;31m#PREPROCESS DATA\u001b[0m\u001b[0;34m\u001b[0m\u001b[0;34m\u001b[0m\u001b[0;34m\u001b[0m\u001b[0m\n\u001b[1;32m      2\u001b[0m \u001b[0;32mimport\u001b[0m \u001b[0mData_Preprocessing\u001b[0m\u001b[0;34m.\u001b[0m\u001b[0mdata_preprocess_adultData\u001b[0m \u001b[0;32mas\u001b[0m \u001b[0mpreprocess\u001b[0m\u001b[0;34m\u001b[0m\u001b[0;34m\u001b[0m\u001b[0m\n\u001b[0;32m----> 3\u001b[0;31m \u001b[0mfeatures\u001b[0m\u001b[0;34m,\u001b[0m \u001b[0mfeature_types\u001b[0m\u001b[0;34m,\u001b[0m \u001b[0mlabels\u001b[0m\u001b[0;34m=\u001b[0m \u001b[0mpreprocess\u001b[0m\u001b[0;34m.\u001b[0m\u001b[0mpreprocess_adult\u001b[0m\u001b[0;34m(\u001b[0m\u001b[0;34m)\u001b[0m\u001b[0;34m\u001b[0m\u001b[0;34m\u001b[0m\u001b[0m\n\u001b[0m",
      "\u001b[0;32m~/Documents/GitHub/COMP551A1/Data_Preprocessing/data_preprocess_adultData.py\u001b[0m in \u001b[0;36mpreprocess_adult\u001b[0;34m()\u001b[0m\n\u001b[1;32m    164\u001b[0m     \u001b[0;31m###############################################################################\u001b[0m\u001b[0;34m\u001b[0m\u001b[0;34m\u001b[0m\u001b[0;34m\u001b[0m\u001b[0m\n\u001b[1;32m    165\u001b[0m     \u001b[0;31m#basic statistics of train_desMat and test_desMat\u001b[0m\u001b[0;34m\u001b[0m\u001b[0;34m\u001b[0m\u001b[0;34m\u001b[0m\u001b[0m\n\u001b[0;32m--> 166\u001b[0;31m     \u001b[0mos\u001b[0m\u001b[0;34m.\u001b[0m\u001b[0mchdir\u001b[0m \u001b[0;34m(\u001b[0m\u001b[0mfp\u001b[0m\u001b[0;34m)\u001b[0m\u001b[0;34m\u001b[0m\u001b[0;34m\u001b[0m\u001b[0m\n\u001b[0m\u001b[1;32m    167\u001b[0m     \u001b[0;32mfrom\u001b[0m \u001b[0mData_Preprocessing\u001b[0m\u001b[0;34m.\u001b[0m\u001b[0mutil_preprocess\u001b[0m \u001b[0;32mimport\u001b[0m \u001b[0mbasic_stats\u001b[0m\u001b[0;34m\u001b[0m\u001b[0;34m\u001b[0m\u001b[0m\n\u001b[1;32m    168\u001b[0m     \u001b[0mbasic_stats\u001b[0m\u001b[0;34m(\u001b[0m\u001b[0mdf_adult_train\u001b[0m\u001b[0;34m)\u001b[0m\u001b[0;34m\u001b[0m\u001b[0;34m\u001b[0m\u001b[0m\n",
      "\u001b[0;31mFileNotFoundError\u001b[0m: [Errno 2] No such file or directory: 'Dataset_Folder/Dataset2_Adult/'"
     ]
    }
   ],
   "source": [
    "#PREPROCESS DATA\n",
    "import Data_Preprocessing.data_preprocess_adultData as preprocess \n",
    "features, feature_types, labels= preprocess.preprocess_adult()"
   ]
  },
  {
   "cell_type": "code",
   "execution_count": null,
   "metadata": {},
   "outputs": [],
   "source": [
    "#KCROSS FOLD VALIDATION\n",
    "import Models.kfold_CV_try as cv\n",
    "\n",
    "# Train test split\n",
    "xTrain_adult, xTest_adult, yTrain_adult, yTest_adult = cv.split_train_test(features, labels, 0.2)\n",
    "print(yTrain_adult);print(yTest_adult)"
   ]
  },
  {
   "cell_type": "code",
   "execution_count": null,
   "metadata": {},
   "outputs": [],
   "source": [
    "folds = 5 # delete folds later when embedded in function input\n",
    "# cv_train_data_ion is xTrain_ion split into five chunks\n",
    "dataset_split_in, cv_train_data_adult,cv_train_label_adult= cv.kfold_cross_validation(xTrain_adult,yTrain_adult,folds)\n",
    "# print(cv_train_data_ion,cv_train_label_ion)\n",
    "\n",
    "# the last input for cv.train_validation_split is the number of experiments you are running currently, 5 in total. \n",
    "# each experiments is organizing the five chunks from cv_train_data_ion into 4 chunks for training_data_ion and 1 chunk for validate_data_ion for cross validation, just need to uncomment the line you want to experiment currently. \n",
    "\n",
    "# will be in a for-loop when computing accuracy scores \n",
    "#exp1: \n",
    "validate_data_adult,validate_labels_adult,training_data_adult,training_labels_adult = cv.train_validation_split(cv_train_data_adult,cv_train_label_adult,1)\n",
    "\n",
    "#exp2:\n",
    "#validate_data_ion,validate_labels_ion,training_data_ion,training_labels_ion = cv.train_validation_split(cv_train_data_ion,cv_train_label_ion,2)\n",
    "\n",
    "#exp3:\n",
    "#validate_data_ion,validate_labels_ion,training_data_ion,training_labels_ion = cv.train_validation_split(cv_train_data_ion,cv_train_label_ion,3)\n",
    "\n",
    "#exp4:\n",
    "#validate_data_ion,validate_labels_ion,training_data_ion,training_labels_ion = cv.train_validation_split(cv_train_data_ion,cv_train_label_ion,4)\n",
    "\n",
    "#exp5: \n",
    "#validate_data_ion,validate_labels_ion,training_data_ion,training_labels_ion = cv.train_validation_split(cv_train_data_ion,cv_train_label_ion,5)\n",
    "print(validate_data_adult,validate_labels_adult)\n",
    "print(validate_data_adult.shape,validate_labels_adult.shape)"
   ]
  },
  {
   "cell_type": "code",
   "execution_count": null,
   "metadata": {},
   "outputs": [],
   "source": [
    "#NAIVE BAYES\n"
   ]
  },
  {
   "cell_type": "code",
   "execution_count": null,
   "metadata": {},
   "outputs": [],
   "source": [
    "#LOGISTIC REGRESSION\n",
    "import Models.logisticRegression as lr\n",
    "adultlr1 = lr.Logistic_Regression(0.02,\"Ionosphere\",\"binary\") # input step size\n",
    "# params = ionslr1.fit(cv_train_data, cv_train_label, 0.02, 1e-1)\n",
    "params = adultlr1.fit(training_data_adult,training_labels_adult,0.02,1e-1)\n",
    "print(params)\n",
    "results= adultlr1.predict(params, xTest_adult)\n",
    "print(results)\n",
    "#adding a separate comment\n",
    "# input learning rate and termination conditions"
   ]
  },
  {
   "cell_type": "code",
   "execution_count": null,
   "metadata": {},
   "outputs": [],
   "source": [
    "#ACCURACY"
   ]
  }
 ]
}